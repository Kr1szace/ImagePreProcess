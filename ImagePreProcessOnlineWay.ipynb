{
  "nbformat": 4,
  "nbformat_minor": 0,
  "metadata": {
    "colab": {
      "name": "ImagePreProcessOnlineWay.ipynb",
      "version": "0.3.2",
      "provenance": [],
      "collapsed_sections": [],
      "include_colab_link": true
    },
    "kernelspec": {
      "name": "python3",
      "display_name": "Python 3"
    }
  },
  "cells": [
    {
      "cell_type": "markdown",
      "metadata": {
        "id": "view-in-github",
        "colab_type": "text"
      },
      "source": [
        "<a href=\"https://colab.research.google.com/github/Kr1szace/ImagePreProcess/blob/master/ImagePreProcessOnlineWay.ipynb\" target=\"_parent\"><img src=\"https://colab.research.google.com/assets/colab-badge.svg\" alt=\"Open In Colab\"/></a>"
      ]
    },
    {
      "cell_type": "code",
      "metadata": {
        "id": "O0exPh_ScmwD",
        "colab_type": "code",
        "colab": {}
      },
      "source": [
        "from PIL import Image, ImageDraw, ImageFont\n",
        "import matplotlib.pyplot as plt\n",
        "import matplotlib.image as mpimg\n",
        "import cv2\n",
        "import numpy as np"
      ],
      "execution_count": 0,
      "outputs": []
    },
    {
      "cell_type": "code",
      "metadata": {
        "id": "Kcv6eazldNGm",
        "colab_type": "code",
        "colab": {}
      },
      "source": [
        "import os\n",
        "import shutil"
      ],
      "execution_count": 0,
      "outputs": []
    },
    {
      "cell_type": "code",
      "metadata": {
        "id": "7hkJof4OdNYP",
        "colab_type": "code",
        "colab": {}
      },
      "source": [
        "from PIL import Image\n",
        "import glob"
      ],
      "execution_count": 0,
      "outputs": []
    },
    {
      "cell_type": "code",
      "metadata": {
        "id": "9rUjKo-ldgce",
        "colab_type": "code",
        "colab": {}
      },
      "source": [
        "#Delete Folder\n",
        "#shutil.rmtree('ImagePreProcess/Alma')"
      ],
      "execution_count": 0,
      "outputs": []
    },
    {
      "cell_type": "code",
      "metadata": {
        "id": "7R9u5h6vdPQQ",
        "colab_type": "code",
        "colab": {
          "base_uri": "https://localhost:8080/",
          "height": 35
        },
        "outputId": "38065fe3-6df3-4b7e-a443-c8f43fef0d70"
      },
      "source": [
        "#Delete 'cache'\n",
        "!rm -r ImagePreProcess"
      ],
      "execution_count": 6,
      "outputs": [
        {
          "output_type": "stream",
          "text": [
            "rm: cannot remove 'ImagePreProcess': No such file or directory\n"
          ],
          "name": "stdout"
        }
      ]
    },
    {
      "cell_type": "code",
      "metadata": {
        "id": "eq239VQhdYAu",
        "colab_type": "code",
        "colab": {
          "base_uri": "https://localhost:8080/",
          "height": 145
        },
        "outputId": "91a50905-7bd2-4a76-86de-c22e07cad362"
      },
      "source": [
        "!git clone https://github.com/Kr1szace/ImagePreProcess.git\n",
        "!ls ImagePreProcess"
      ],
      "execution_count": 7,
      "outputs": [
        {
          "output_type": "stream",
          "text": [
            "Cloning into 'ImagePreProcess'...\n",
            "remote: Enumerating objects: 134, done.\u001b[K\n",
            "remote: Counting objects: 100% (134/134), done.\u001b[K\n",
            "remote: Compressing objects: 100% (133/133), done.\u001b[K\n",
            "remote: Total 134 (delta 0), reused 134 (delta 0), pack-reused 0\u001b[K\n",
            "Receiving objects: 100% (134/134), 48.04 MiB | 37.75 MiB/s, done.\n",
            "FerfiNo  Tisztan.xlsx\n"
          ],
          "name": "stdout"
        }
      ]
    },
    {
      "cell_type": "code",
      "metadata": {
        "id": "3Fv5-r5Tdsa-",
        "colab_type": "code",
        "colab": {}
      },
      "source": [
        "def createFolder(directory):\n",
        "    try:\n",
        "        if not os.path.exists(directory):\n",
        "            os.makedirs(directory)\n",
        "            print('Directory Created')\n",
        "    except OSError:\n",
        "        print ('Error: Creating directory. ' +  directory)"
      ],
      "execution_count": 0,
      "outputs": []
    },
    {
      "cell_type": "code",
      "metadata": {
        "id": "14uj3MN5fJFF",
        "colab_type": "code",
        "colab": {}
      },
      "source": [
        "def Image_Load(honnan):\n",
        "    valamik = []\n",
        "    valami=[]\n",
        "    honnan='{}/*.jpg'.format(honnan)\n",
        "    for filename in glob.glob(honnan): #assuming gif\n",
        "        valami.append(filename)\n",
        "    valamik=np.asarray(valami)\n",
        "\n",
        "    print('Image load done')\n",
        "\n",
        "    return valamik"
      ],
      "execution_count": 0,
      "outputs": []
    },
    {
      "cell_type": "code",
      "metadata": {
        "id": "wa14RAMUfT4k",
        "colab_type": "code",
        "colab": {}
      },
      "source": [
        "def pre_process(img):\n",
        "    img= mpimg.imread(img)\n",
        "    #img=cv2.resize(img, (int(img.shape[1]/5),int(img.shape[0]/5)))\n",
        "    img=cv2.cvtColor(img, cv2.COLOR_BGR2GRAY)\n",
        "    #img = img/255\n",
        "    return img"
      ],
      "execution_count": 0,
      "outputs": []
    },
    {
      "cell_type": "code",
      "metadata": {
        "id": "_ftSJ7SPdprm",
        "colab_type": "code",
        "colab": {}
      },
      "source": [
        "def tresholded_image(im):\n",
        "    for i in range(0, im.shape[0]):\n",
        "        for j in range(0, im.shape[1]):\n",
        "            if im[i][j]<220:\n",
        "                im[i][j]=0\n",
        "            else:\n",
        "                im[i][j]=255\n",
        "    print(\"tresholded function is done\")\n",
        "    return im\n",
        "  \n",
        "def find_upper_slat(im):\n",
        "    megvan=0\n",
        "    x=-1\n",
        "    y=-1\n",
        "    i=0\n",
        "    j=0\n",
        "    while megvan!=1 and i<im.shape[0]:\n",
        "        while megvan!=1 and j<im.shape[1]:\n",
        "            if im[i][j]==0:\n",
        "                x=i\n",
        "                y=j\n",
        "                im[i][j]=150\n",
        "                megvan=1\n",
        "                #print('Upper slat')\n",
        "                \n",
        "            j+=1\n",
        "        j=0\n",
        "        i+=1\n",
        "    #print('X: {}, Y: {}'.format(x,y))\n",
        "    return x,y\n",
        "  \n",
        "def find_bottom_slat(im):\n",
        "    megvan=0\n",
        "    x=-1\n",
        "    y=-1\n",
        "    i=im.shape[0]-1\n",
        "    j=0\n",
        "    while megvan!=1 and i>=0:\n",
        "        while megvan!=1 and j<im.shape[1]:\n",
        "            if im[i][j]==0:\n",
        "                x=i\n",
        "                y=j\n",
        "                im[i][j]=150\n",
        "                megvan=1\n",
        "                #print('Bottom slat') \n",
        "            j+=1\n",
        "        j=0\n",
        "        i-=1\n",
        "    #print('X: {}, Y: {}'.format(x,y))\n",
        "    return x,y\n",
        "  \n",
        "def find_left_slat(im):\n",
        "    megvan=0\n",
        "    x=-1\n",
        "    y=-1\n",
        "    i=0\n",
        "    j=0\n",
        "    while megvan!=1 and i<im.shape[1]:\n",
        "        while megvan!=1 and j<im.shape[0]:\n",
        "            if im[j][i]==0:\n",
        "                x=i\n",
        "                y=j\n",
        "                im[j][i]=150\n",
        "                megvan=1\n",
        "                #print('Left slat')\n",
        "                \n",
        "            j+=1\n",
        "        j=0\n",
        "        i+=1\n",
        "    #print('X: {}, Y: {}'.format(x,y))\n",
        "    return x,y\n",
        "  \n",
        "def find_right_slat(im):\n",
        "    megvan=0\n",
        "    x=-1\n",
        "    y=-1\n",
        "    i=im.shape[1]-1\n",
        "    j=0\n",
        "    while megvan!=1 and i>=0:\n",
        "        while megvan!=1 and j<im.shape[0]:\n",
        "            if im[j][i]==0:\n",
        "                x=i\n",
        "                y=j\n",
        "                im[j][i]=150\n",
        "                megvan=1\n",
        "                #print('Right slat') \n",
        "            j+=1\n",
        "        j=0\n",
        "        i-=1\n",
        "    #print('X: {}, Y: {}'.format(x,y))\n",
        "    return x,y\n",
        "  \n",
        "def coordinates_of_frame(im):\n",
        "    upper_x, upper_y=find_upper_slat(im)\n",
        "    bottom_x, bottom_y=find_bottom_slat(im)\n",
        "    left_x, left_y=find_left_slat(im)\n",
        "    right_x, right_y=find_right_slat(im)\n",
        "    return upper_x, upper_y, bottom_x, bottom_y, left_x, left_y, right_x, right_y\n",
        "  \n",
        "def frame_of_text(im,upper, bottom, left, right):\n",
        "    \n",
        "    a=((bottom)-(upper-1))\n",
        "    b=((right)-(left-1))\n",
        "    image=[[0] * b for i in range(a)]\n",
        "    \n",
        "    \n",
        "    if upper==0:\n",
        "        upper=-1\n",
        "    elif upper>0:\n",
        "        upper-=1\n",
        "      \n",
        "    if bottom==im.shape[0]-1:\n",
        "        bottom=-1\n",
        "    elif bottom<im.shape[0]-1:\n",
        "        bottom+=1\n",
        "    \n",
        "    \n",
        "    if left==0:\n",
        "        left=-1\n",
        "    elif left>0:\n",
        "        left-=1\n",
        " \n",
        "    if right==im.shape[1]-1:\n",
        "        right=-1\n",
        "    elif right<im.shape[1]-1:\n",
        "        right+=1\n",
        "    \n",
        "    image=np.asarray(image)\n",
        "    print(\"shape\",image.shape)\n",
        "    \n",
        "\n",
        "            \n",
        "    \n",
        "    for h in range(0,image.shape[0]):\n",
        "         for w in range(0, image.shape[1]):\n",
        "                if upper!=-1 and left!=-1:\n",
        "                    valami=im[(upper+1+h)][(left+1+w)]\n",
        "                    image[h][w]=valami\n",
        "                elif upper!=-1 and left==-1:\n",
        "                    valami=im[(upper+1+h)][(left+w)]\n",
        "                    image[h][w]=valami\n",
        "                elif upper==-1 and left!=-1:\n",
        "                    valami=im[(upper+h)][(left+1+w)]\n",
        "                    image[h][w]=valami\n",
        "                #mindkettő minusz egy\n",
        "                else:\n",
        "                    valami=im[(upper+h)][(left+w)]\n",
        "                    image[h][w]=valami\n",
        "                    \n",
        "                    \n",
        "                    \n",
        "                \n",
        "            \n",
        "    for i in range(0,im.shape[1]):\n",
        "        if upper!=-1:\n",
        "            im[upper, i]=0\n",
        "        if bottom!=-1:\n",
        "            im[bottom, i]=0\n",
        "    for j in range(0,im.shape[0]):\n",
        "        if left!=-1:\n",
        "            im[j, left]=0\n",
        "        if right!=-1:\n",
        "            im[j, right]=0    \n",
        "  \n",
        "            \n",
        "    return image\n",
        "  \n",
        "def cutted_image(img_name, img_to):\n",
        "    img_treshold=tresholded_image(pre_process(img_name))\n",
        "    img = pre_process(img_name)\n",
        "    coordinates=coordinates_of_frame(img_treshold)\n",
        "    return_image=frame_of_text(img, coordinates[0], coordinates[2], coordinates[4], coordinates[6])\n",
        "    #plt.imshow(return_image)\n",
        "    print(img_to+'/'+ img_name.split('/')[-1])\n",
        "    cv2.imwrite(img_to+'/'+img_name.split('/')[-1], return_image)\n",
        "    \n",
        "def Cutted_images(honnan, hova):\n",
        "    createFolder(hova)\n",
        "    images=Image_Load(honnan)\n",
        "    for image in images:\n",
        "        cutted_image(image, hova)\n",
        "    print('Cutted_images Done')  "
      ],
      "execution_count": 0,
      "outputs": []
    },
    {
      "cell_type": "code",
      "metadata": {
        "id": "8RndeMVJga7z",
        "colab_type": "code",
        "colab": {
          "base_uri": "https://localhost:8080/",
          "height": 35
        },
        "outputId": "3b3ceb52-91f4-4dc4-a218-362f69146c47"
      },
      "source": [
        "!ls ImagePreProcess"
      ],
      "execution_count": 14,
      "outputs": [
        {
          "output_type": "stream",
          "text": [
            "FerfiNo  Tisztan.xlsx\n"
          ],
          "name": "stdout"
        }
      ]
    },
    {
      "cell_type": "code",
      "metadata": {
        "id": "YcIKoRwKKEvE",
        "colab_type": "code",
        "colab": {
          "base_uri": "https://localhost:8080/",
          "height": 199
        },
        "outputId": "2a23adb2-f86e-4398-fede-ee0530ebfe7e"
      },
      "source": [
        "pip install gitpython"
      ],
      "execution_count": 15,
      "outputs": [
        {
          "output_type": "stream",
          "text": [
            "Collecting gitpython\n",
            "\u001b[?25l  Downloading https://files.pythonhosted.org/packages/8e/c7/70bd352e8a561a9b6d1cde9aa313b9d7c871b0c94c3821f44c01f3187e1d/GitPython-3.0.2-py3-none-any.whl (453kB)\n",
            "\u001b[K     |████████████████████████████████| 460kB 4.9MB/s \n",
            "\u001b[?25hCollecting gitdb2>=2.0.0 (from gitpython)\n",
            "\u001b[?25l  Downloading https://files.pythonhosted.org/packages/da/30/a407568aa8d8f25db817cf50121a958722f3fc5f87e3a6fba1f40c0633e3/gitdb2-2.0.5-py2.py3-none-any.whl (62kB)\n",
            "\u001b[K     |████████████████████████████████| 71kB 29.7MB/s \n",
            "\u001b[?25hCollecting smmap2>=2.0.0 (from gitdb2>=2.0.0->gitpython)\n",
            "  Downloading https://files.pythonhosted.org/packages/55/d2/866d45e3a121ee15a1dc013824d58072fd5c7799c9c34d01378eb262ca8f/smmap2-2.0.5-py2.py3-none-any.whl\n",
            "Installing collected packages: smmap2, gitdb2, gitpython\n",
            "Successfully installed gitdb2-2.0.5 gitpython-3.0.2 smmap2-2.0.5\n"
          ],
          "name": "stdout"
        }
      ]
    },
    {
      "cell_type": "code",
      "metadata": {
        "id": "bY-xSGlmgfja",
        "colab_type": "code",
        "colab": {
          "base_uri": "https://localhost:8080/",
          "height": 35
        },
        "outputId": "f25b7689-7077-42aa-a79b-367eac2c8a0b"
      },
      "source": [
        ""
      ],
      "execution_count": 23,
      "outputs": [
        {
          "output_type": "stream",
          "text": [
            "Some error occured while pushing the code\n"
          ],
          "name": "stdout"
        }
      ]
    },
    {
      "cell_type": "code",
      "metadata": {
        "id": "PUiDzlVJoDOo",
        "colab_type": "code",
        "colab": {
          "base_uri": "https://localhost:8080/",
          "height": 225
        },
        "outputId": "23879130-6c56-4462-e381-104feff26aae"
      },
      "source": [
        ""
      ],
      "execution_count": 24,
      "outputs": [
        {
          "output_type": "error",
          "ename": "NameError",
          "evalue": "ignored",
          "traceback": [
            "\u001b[0;31m---------------------------------------------------------------------------\u001b[0m",
            "\u001b[0;31mNameError\u001b[0m                                 Traceback (most recent call last)",
            "\u001b[0;32m<ipython-input-24-2ec7f9aba93d>\u001b[0m in \u001b[0;36m<module>\u001b[0;34m()\u001b[0m\n\u001b[0;32m----> 1\u001b[0;31m \u001b[0mrepo\u001b[0m \u001b[0;34m=\u001b[0m \u001b[0mgit\u001b[0m\u001b[0;34m.\u001b[0m\u001b[0mRepo\u001b[0m\u001b[0;34m(\u001b[0m\u001b[0;34m\"ImagePreProcess\"\u001b[0m\u001b[0;34m)\u001b[0m\u001b[0;34m\u001b[0m\u001b[0;34m\u001b[0m\u001b[0m\n\u001b[0m\u001b[1;32m      2\u001b[0m \u001b[0mrepo\u001b[0m\u001b[0;34m.\u001b[0m\u001b[0mgit\u001b[0m\u001b[0;34m.\u001b[0m\u001b[0madd\u001b[0m\u001b[0;34m(\u001b[0m\u001b[0;34m\"bla.txt\"\u001b[0m\u001b[0;34m)\u001b[0m\u001b[0;34m\u001b[0m\u001b[0;34m\u001b[0m\u001b[0m\n\u001b[1;32m      3\u001b[0m \u001b[0mrepo\u001b[0m\u001b[0;34m.\u001b[0m\u001b[0mgit\u001b[0m\u001b[0;34m.\u001b[0m\u001b[0mcommit\u001b[0m\u001b[0;34m(\u001b[0m\u001b[0;34m\"my commit description\"\u001b[0m\u001b[0;34m)\u001b[0m\u001b[0;34m\u001b[0m\u001b[0;34m\u001b[0m\u001b[0m\n\u001b[1;32m      4\u001b[0m \u001b[0mrepo\u001b[0m\u001b[0;34m.\u001b[0m\u001b[0mgit\u001b[0m\u001b[0;34m.\u001b[0m\u001b[0mpush\u001b[0m\u001b[0;34m(\u001b[0m\u001b[0;34m'origin'\u001b[0m\u001b[0;34m,\u001b[0m \u001b[0mnew_branch\u001b[0m\u001b[0;34m)\u001b[0m\u001b[0;34m\u001b[0m\u001b[0;34m\u001b[0m\u001b[0m\n",
            "\u001b[0;31mNameError\u001b[0m: name 'git' is not defined"
          ]
        }
      ]
    },
    {
      "cell_type": "code",
      "metadata": {
        "id": "82dVa0xxniFZ",
        "colab_type": "code",
        "colab": {
          "base_uri": "https://localhost:8080/",
          "height": 171
        },
        "outputId": "39c642c2-b151-46b8-f0ef-7e02323a0d66"
      },
      "source": [
        ""
      ],
      "execution_count": 124,
      "outputs": [
        {
          "output_type": "error",
          "ename": "AttributeError",
          "evalue": "ignored",
          "traceback": [
            "\u001b[0;31m---------------------------------------------------------------------------\u001b[0m",
            "\u001b[0;31mAttributeError\u001b[0m                            Traceback (most recent call last)",
            "\u001b[0;32m<ipython-input-124-c2b38a642fa6>\u001b[0m in \u001b[0;36m<module>\u001b[0;34m()\u001b[0m\n\u001b[0;32m----> 1\u001b[0;31m \u001b[0mpygit\u001b[0m\u001b[0;34m.\u001b[0m\u001b[0mpull_all\u001b[0m\u001b[0;34m(\u001b[0m\u001b[0;34m)\u001b[0m\u001b[0;34m\u001b[0m\u001b[0;34m\u001b[0m\u001b[0m\n\u001b[0m",
            "\u001b[0;31mAttributeError\u001b[0m: module 'pygit' has no attribute 'pull_all'"
          ]
        }
      ]
    },
    {
      "cell_type": "code",
      "metadata": {
        "id": "fekDIZabnbYa",
        "colab_type": "code",
        "colab": {}
      },
      "source": [
        ""
      ],
      "execution_count": 0,
      "outputs": []
    },
    {
      "cell_type": "code",
      "metadata": {
        "id": "SUzcHxP_eLLW",
        "colab_type": "code",
        "colab": {
          "base_uri": "https://localhost:8080/",
          "height": 540
        },
        "outputId": "dce7a758-e7ef-4d00-dfdf-80b09fc1a4ae"
      },
      "source": [
        "Cutted_images('ImagePreProcess/FerfiNo/Ferfi', 'ImagePreProcess/Frame/Ferfi')\n",
        "#Cutted_images('ImagePreProcess/FerfiNo/No', 'ImagePreProcess/Frame/No')"
      ],
      "execution_count": 25,
      "outputs": [
        {
          "output_type": "stream",
          "text": [
            "Directory Created\n",
            "Image load done\n",
            "tresholded function is done\n",
            "shape (1955, 2412)\n",
            "ImagePreProcess/Frame/Ferfi/111.jpg\n",
            "tresholded function is done\n",
            "shape (2514, 2352)\n",
            "ImagePreProcess/Frame/Ferfi/24.jpg\n",
            "tresholded function is done\n",
            "shape (2637, 2338)\n",
            "ImagePreProcess/Frame/Ferfi/11.jpg\n"
          ],
          "name": "stdout"
        },
        {
          "output_type": "error",
          "ename": "KeyboardInterrupt",
          "evalue": "ignored",
          "traceback": [
            "\u001b[0;31m---------------------------------------------------------------------------\u001b[0m",
            "\u001b[0;31mKeyboardInterrupt\u001b[0m                         Traceback (most recent call last)",
            "\u001b[0;32m<ipython-input-25-bf500fcfc89f>\u001b[0m in \u001b[0;36m<module>\u001b[0;34m()\u001b[0m\n\u001b[0;32m----> 1\u001b[0;31m \u001b[0mCutted_images\u001b[0m\u001b[0;34m(\u001b[0m\u001b[0;34m'ImagePreProcess/FerfiNo/Ferfi'\u001b[0m\u001b[0;34m,\u001b[0m \u001b[0;34m'ImagePreProcess/Frame/Ferfi'\u001b[0m\u001b[0;34m)\u001b[0m\u001b[0;34m\u001b[0m\u001b[0;34m\u001b[0m\u001b[0m\n\u001b[0m\u001b[1;32m      2\u001b[0m \u001b[0;31m#Cutted_images('ImagePreProcess/FerfiNo/No', 'ImagePreProcess/Frame/No')\u001b[0m\u001b[0;34m\u001b[0m\u001b[0;34m\u001b[0m\u001b[0;34m\u001b[0m\u001b[0m\n",
            "\u001b[0;32m<ipython-input-11-ad9be472b68c>\u001b[0m in \u001b[0;36mCutted_images\u001b[0;34m(honnan, hova)\u001b[0m\n\u001b[1;32m    179\u001b[0m     \u001b[0mimages\u001b[0m\u001b[0;34m=\u001b[0m\u001b[0mImage_Load\u001b[0m\u001b[0;34m(\u001b[0m\u001b[0mhonnan\u001b[0m\u001b[0;34m)\u001b[0m\u001b[0;34m\u001b[0m\u001b[0;34m\u001b[0m\u001b[0m\n\u001b[1;32m    180\u001b[0m     \u001b[0;32mfor\u001b[0m \u001b[0mimage\u001b[0m \u001b[0;32min\u001b[0m \u001b[0mimages\u001b[0m\u001b[0;34m:\u001b[0m\u001b[0;34m\u001b[0m\u001b[0;34m\u001b[0m\u001b[0m\n\u001b[0;32m--> 181\u001b[0;31m         \u001b[0mcutted_image\u001b[0m\u001b[0;34m(\u001b[0m\u001b[0mimage\u001b[0m\u001b[0;34m,\u001b[0m \u001b[0mhova\u001b[0m\u001b[0;34m)\u001b[0m\u001b[0;34m\u001b[0m\u001b[0;34m\u001b[0m\u001b[0m\n\u001b[0m\u001b[1;32m    182\u001b[0m     \u001b[0mprint\u001b[0m\u001b[0;34m(\u001b[0m\u001b[0;34m'Cutted_images Done'\u001b[0m\u001b[0;34m)\u001b[0m\u001b[0;34m\u001b[0m\u001b[0;34m\u001b[0m\u001b[0m\n",
            "\u001b[0;32m<ipython-input-11-ad9be472b68c>\u001b[0m in \u001b[0;36mcutted_image\u001b[0;34m(img_name, img_to)\u001b[0m\n\u001b[1;32m    167\u001b[0m \u001b[0;34m\u001b[0m\u001b[0m\n\u001b[1;32m    168\u001b[0m \u001b[0;32mdef\u001b[0m \u001b[0mcutted_image\u001b[0m\u001b[0;34m(\u001b[0m\u001b[0mimg_name\u001b[0m\u001b[0;34m,\u001b[0m \u001b[0mimg_to\u001b[0m\u001b[0;34m)\u001b[0m\u001b[0;34m:\u001b[0m\u001b[0;34m\u001b[0m\u001b[0;34m\u001b[0m\u001b[0m\n\u001b[0;32m--> 169\u001b[0;31m     \u001b[0mimg_treshold\u001b[0m\u001b[0;34m=\u001b[0m\u001b[0mtresholded_image\u001b[0m\u001b[0;34m(\u001b[0m\u001b[0mpre_process\u001b[0m\u001b[0;34m(\u001b[0m\u001b[0mimg_name\u001b[0m\u001b[0;34m)\u001b[0m\u001b[0;34m)\u001b[0m\u001b[0;34m\u001b[0m\u001b[0;34m\u001b[0m\u001b[0m\n\u001b[0m\u001b[1;32m    170\u001b[0m     \u001b[0mimg\u001b[0m \u001b[0;34m=\u001b[0m \u001b[0mpre_process\u001b[0m\u001b[0;34m(\u001b[0m\u001b[0mimg_name\u001b[0m\u001b[0;34m)\u001b[0m\u001b[0;34m\u001b[0m\u001b[0;34m\u001b[0m\u001b[0m\n\u001b[1;32m    171\u001b[0m     \u001b[0mcoordinates\u001b[0m\u001b[0;34m=\u001b[0m\u001b[0mcoordinates_of_frame\u001b[0m\u001b[0;34m(\u001b[0m\u001b[0mimg_treshold\u001b[0m\u001b[0;34m)\u001b[0m\u001b[0;34m\u001b[0m\u001b[0;34m\u001b[0m\u001b[0m\n",
            "\u001b[0;32m<ipython-input-11-ad9be472b68c>\u001b[0m in \u001b[0;36mtresholded_image\u001b[0;34m(im)\u001b[0m\n\u001b[1;32m      2\u001b[0m     \u001b[0;32mfor\u001b[0m \u001b[0mi\u001b[0m \u001b[0;32min\u001b[0m \u001b[0mrange\u001b[0m\u001b[0;34m(\u001b[0m\u001b[0;36m0\u001b[0m\u001b[0;34m,\u001b[0m \u001b[0mim\u001b[0m\u001b[0;34m.\u001b[0m\u001b[0mshape\u001b[0m\u001b[0;34m[\u001b[0m\u001b[0;36m0\u001b[0m\u001b[0;34m]\u001b[0m\u001b[0;34m)\u001b[0m\u001b[0;34m:\u001b[0m\u001b[0;34m\u001b[0m\u001b[0;34m\u001b[0m\u001b[0m\n\u001b[1;32m      3\u001b[0m         \u001b[0;32mfor\u001b[0m \u001b[0mj\u001b[0m \u001b[0;32min\u001b[0m \u001b[0mrange\u001b[0m\u001b[0;34m(\u001b[0m\u001b[0;36m0\u001b[0m\u001b[0;34m,\u001b[0m \u001b[0mim\u001b[0m\u001b[0;34m.\u001b[0m\u001b[0mshape\u001b[0m\u001b[0;34m[\u001b[0m\u001b[0;36m1\u001b[0m\u001b[0;34m]\u001b[0m\u001b[0;34m)\u001b[0m\u001b[0;34m:\u001b[0m\u001b[0;34m\u001b[0m\u001b[0;34m\u001b[0m\u001b[0m\n\u001b[0;32m----> 4\u001b[0;31m             \u001b[0;32mif\u001b[0m \u001b[0mim\u001b[0m\u001b[0;34m[\u001b[0m\u001b[0mi\u001b[0m\u001b[0;34m]\u001b[0m\u001b[0;34m[\u001b[0m\u001b[0mj\u001b[0m\u001b[0;34m]\u001b[0m\u001b[0;34m<\u001b[0m\u001b[0;36m220\u001b[0m\u001b[0;34m:\u001b[0m\u001b[0;34m\u001b[0m\u001b[0;34m\u001b[0m\u001b[0m\n\u001b[0m\u001b[1;32m      5\u001b[0m                 \u001b[0mim\u001b[0m\u001b[0;34m[\u001b[0m\u001b[0mi\u001b[0m\u001b[0;34m]\u001b[0m\u001b[0;34m[\u001b[0m\u001b[0mj\u001b[0m\u001b[0;34m]\u001b[0m\u001b[0;34m=\u001b[0m\u001b[0;36m0\u001b[0m\u001b[0;34m\u001b[0m\u001b[0;34m\u001b[0m\u001b[0m\n\u001b[1;32m      6\u001b[0m             \u001b[0;32melse\u001b[0m\u001b[0;34m:\u001b[0m\u001b[0;34m\u001b[0m\u001b[0;34m\u001b[0m\u001b[0m\n",
            "\u001b[0;31mKeyboardInterrupt\u001b[0m: "
          ]
        }
      ]
    },
    {
      "cell_type": "code",
      "metadata": {
        "id": "NbbxQZFAOxTl",
        "colab_type": "code",
        "colab": {
          "base_uri": "https://localhost:8080/",
          "height": 108
        },
        "outputId": "82500d0f-e3ff-4809-d07b-c249997c5077"
      },
      "source": [
        "!pip install gitpython\n",
        "from git import Repo\n",
        "\n",
        "PATH_OF_GIT_REPO = r'ImagePreProcess/Frame/Ferfi/'  # make sure .git folder is properly configured\n",
        "COMMIT_MESSAGE = 'comment from python script'\n",
        "\n",
        "print(PATH_OF_GIT_REPO)\n",
        "\n",
        "def git_push():\n",
        "    try:\n",
        "        repo = Repo(PATH_OF_GIT_REPO)\n",
        "        repo.git.add(\".\")\n",
        "        repo.index.commit(COMMIT_MESSAGE)\n",
        "        origin = repo.remote(name='origin')\n",
        "        origin.push()\n",
        "    except:\n",
        "        print('Some error occured while pushing the code')    \n",
        "\n",
        "git_push()"
      ],
      "execution_count": 39,
      "outputs": [
        {
          "output_type": "stream",
          "text": [
            "Requirement already satisfied: gitpython in /usr/local/lib/python3.6/dist-packages (3.0.2)\n",
            "Requirement already satisfied: gitdb2>=2.0.0 in /usr/local/lib/python3.6/dist-packages (from gitpython) (2.0.5)\n",
            "Requirement already satisfied: smmap2>=2.0.0 in /usr/local/lib/python3.6/dist-packages (from gitdb2>=2.0.0->gitpython) (2.0.5)\n",
            "ImagePreProcess/Frame/Ferfi/\n",
            "Some error occured while pushing the code\n"
          ],
          "name": "stdout"
        }
      ]
    },
    {
      "cell_type": "code",
      "metadata": {
        "id": "cwPVfwOog-9q",
        "colab_type": "code",
        "colab": {
          "base_uri": "https://localhost:8080/",
          "height": 35
        },
        "outputId": "15dde3d4-55c9-44e0-ca3e-87b56314a8ca"
      },
      "source": [
        "!ls ImagePreProcess/Frame/Ferfi"
      ],
      "execution_count": 34,
      "outputs": [
        {
          "output_type": "stream",
          "text": [
            "111.jpg  11.jpg  24.jpg\n"
          ],
          "name": "stdout"
        }
      ]
    },
    {
      "cell_type": "code",
      "metadata": {
        "id": "r1jtGAFHlol0",
        "colab_type": "code",
        "colab": {
          "base_uri": "https://localhost:8080/",
          "height": 35
        },
        "outputId": "27d25358-fd70-4526-9a5c-8dee946762a2"
      },
      "source": [
        "!git push https://github.com/Kr1szace/ImagePreProcess.git -u origin –all "
      ],
      "execution_count": 110,
      "outputs": [
        {
          "output_type": "stream",
          "text": [
            "fatal: not a git repository (or any of the parent directories): .git\n"
          ],
          "name": "stdout"
        }
      ]
    },
    {
      "cell_type": "code",
      "metadata": {
        "id": "Vz32CfYdlFOk",
        "colab_type": "code",
        "colab": {
          "base_uri": "https://localhost:8080/",
          "height": 35
        },
        "outputId": "0ee2c834-4d72-49fa-9885-990f1208ff9e"
      },
      "source": [
        "!git fetch https://github.com/Kr1szace/ImagePreProcess.git"
      ],
      "execution_count": 103,
      "outputs": [
        {
          "output_type": "stream",
          "text": [
            "fatal: not a git repository (or any of the parent directories): .git\n"
          ],
          "name": "stdout"
        }
      ]
    },
    {
      "cell_type": "code",
      "metadata": {
        "id": "cYAZLmPmlaRs",
        "colab_type": "code",
        "colab": {
          "base_uri": "https://localhost:8080/",
          "height": 35
        },
        "outputId": "de484d61-058b-4b67-eac1-426a509e8979"
      },
      "source": [
        "!git add 'valami.txt'"
      ],
      "execution_count": 104,
      "outputs": [
        {
          "output_type": "stream",
          "text": [
            "fatal: not a git repository (or any of the parent directories): .git\n"
          ],
          "name": "stdout"
        }
      ]
    },
    {
      "cell_type": "code",
      "metadata": {
        "id": "pQ42LOygkzVV",
        "colab_type": "code",
        "colab": {
          "base_uri": "https://localhost:8080/",
          "height": 35
        },
        "outputId": "24ffae6d-beec-4a27-c9b0-9edbcf95ed68"
      },
      "source": [
        "!git https://github.com/Kr1szace/ImagePreProcess.git status"
      ],
      "execution_count": 97,
      "outputs": [
        {
          "output_type": "stream",
          "text": [
            "git: 'https://github.com/Kr1szace/ImagePreProcess.git' is not a git command. See 'git --help'.\n"
          ],
          "name": "stdout"
        }
      ]
    },
    {
      "cell_type": "code",
      "metadata": {
        "id": "5EDQF7dXlAAV",
        "colab_type": "code",
        "colab": {
          "base_uri": "https://localhost:8080/",
          "height": 781
        },
        "outputId": "aceadff7-edd2-478d-ac03-69ae96a5056a"
      },
      "source": [
        "!git --help"
      ],
      "execution_count": 98,
      "outputs": [
        {
          "output_type": "stream",
          "text": [
            "usage: git [--version] [--help] [-C <path>] [-c <name>=<value>]\n",
            "           [--exec-path[=<path>]] [--html-path] [--man-path] [--info-path]\n",
            "           [-p | --paginate | --no-pager] [--no-replace-objects] [--bare]\n",
            "           [--git-dir=<path>] [--work-tree=<path>] [--namespace=<name>]\n",
            "           <command> [<args>]\n",
            "\n",
            "These are common Git commands used in various situations:\n",
            "\n",
            "start a working area (see also: git help tutorial)\n",
            "   clone      Clone a repository into a new directory\n",
            "   init       Create an empty Git repository or reinitialize an existing one\n",
            "\n",
            "work on the current change (see also: git help everyday)\n",
            "   add        Add file contents to the index\n",
            "   mv         Move or rename a file, a directory, or a symlink\n",
            "   reset      Reset current HEAD to the specified state\n",
            "   rm         Remove files from the working tree and from the index\n",
            "\n",
            "examine the history and state (see also: git help revisions)\n",
            "   bisect     Use binary search to find the commit that introduced a bug\n",
            "   grep       Print lines matching a pattern\n",
            "   log        Show commit logs\n",
            "   show       Show various types of objects\n",
            "   status     Show the working tree status\n",
            "\n",
            "grow, mark and tweak your common history\n",
            "   branch     List, create, or delete branches\n",
            "   checkout   Switch branches or restore working tree files\n",
            "   commit     Record changes to the repository\n",
            "   diff       Show changes between commits, commit and working tree, etc\n",
            "   merge      Join two or more development histories together\n",
            "   rebase     Reapply commits on top of another base tip\n",
            "   tag        Create, list, delete or verify a tag object signed with GPG\n",
            "\n",
            "collaborate (see also: git help workflows)\n",
            "   fetch      Download objects and refs from another repository\n",
            "   pull       Fetch from and integrate with another repository or a local branch\n",
            "   push       Update remote refs along with associated objects\n",
            "\n",
            "'git help -a' and 'git help -g' list available subcommands and some\n",
            "concept guides. See 'git help <command>' or 'git help <concept>'\n",
            "to read about a specific subcommand or concept.\n"
          ],
          "name": "stdout"
        }
      ]
    },
    {
      "cell_type": "code",
      "metadata": {
        "id": "OXU1bp2oi_lv",
        "colab_type": "code",
        "colab": {
          "base_uri": "https://localhost:8080/",
          "height": 72
        },
        "outputId": "3a4f8785-4098-445c-d5d9-e11345ba71fc"
      },
      "source": [
        "!cd ../\n",
        "!git add *\n",
        "!git commit -m \"Enter commit message here\"\n",
        "!git push"
      ],
      "execution_count": 93,
      "outputs": [
        {
          "output_type": "stream",
          "text": [
            "fatal: not a git repository (or any of the parent directories): .git\n",
            "fatal: not a git repository (or any of the parent directories): .git\n",
            "fatal: not a git repository (or any of the parent directories): .git\n"
          ],
          "name": "stdout"
        }
      ]
    },
    {
      "cell_type": "code",
      "metadata": {
        "id": "3Qhvou3EfWFU",
        "colab_type": "code",
        "colab": {
          "base_uri": "https://localhost:8080/",
          "height": 444
        },
        "outputId": "375dd2c1-4823-4545-cf5d-dba819c2b7cc"
      },
      "source": [
        "!pip install git\n",
        "from git import Repo\n",
        "repo = Repo('ImagePreProcess/Frame/Ferfi')  # if repo is CWD just do '.'\n",
        "\n",
        "repo.index.add(['valami.txt'])\n",
        "repo.index.commit('Cutted Images')\n",
        "origin = repo.remote('origin')\n",
        "origin.push()"
      ],
      "execution_count": 84,
      "outputs": [
        {
          "output_type": "stream",
          "text": [
            "Collecting git\n",
            "\u001b[31m  ERROR: Could not find a version that satisfies the requirement git (from versions: none)\u001b[0m\n",
            "\u001b[31mERROR: No matching distribution found for git\u001b[0m\n"
          ],
          "name": "stdout"
        },
        {
          "output_type": "error",
          "ename": "ModuleNotFoundError",
          "evalue": "ignored",
          "traceback": [
            "\u001b[0;31m---------------------------------------------------------------------------\u001b[0m",
            "\u001b[0;31mModuleNotFoundError\u001b[0m                       Traceback (most recent call last)",
            "\u001b[0;32m<ipython-input-84-cfa2776fafae>\u001b[0m in \u001b[0;36m<module>\u001b[0;34m()\u001b[0m\n\u001b[1;32m      1\u001b[0m \u001b[0mget_ipython\u001b[0m\u001b[0;34m(\u001b[0m\u001b[0;34m)\u001b[0m\u001b[0;34m.\u001b[0m\u001b[0msystem\u001b[0m\u001b[0;34m(\u001b[0m\u001b[0;34m'pip install git'\u001b[0m\u001b[0;34m)\u001b[0m\u001b[0;34m\u001b[0m\u001b[0;34m\u001b[0m\u001b[0m\n\u001b[0;32m----> 2\u001b[0;31m \u001b[0;32mfrom\u001b[0m \u001b[0mgit\u001b[0m \u001b[0;32mimport\u001b[0m \u001b[0mRepo\u001b[0m\u001b[0;34m\u001b[0m\u001b[0;34m\u001b[0m\u001b[0m\n\u001b[0m\u001b[1;32m      3\u001b[0m \u001b[0mrepo\u001b[0m \u001b[0;34m=\u001b[0m \u001b[0mRepo\u001b[0m\u001b[0;34m(\u001b[0m\u001b[0;34m'ImagePreProcess/Frame/Ferfi'\u001b[0m\u001b[0;34m)\u001b[0m  \u001b[0;31m# if repo is CWD just do '.'\u001b[0m\u001b[0;34m\u001b[0m\u001b[0;34m\u001b[0m\u001b[0m\n\u001b[1;32m      4\u001b[0m \u001b[0;34m\u001b[0m\u001b[0m\n\u001b[1;32m      5\u001b[0m \u001b[0mrepo\u001b[0m\u001b[0;34m.\u001b[0m\u001b[0mindex\u001b[0m\u001b[0;34m.\u001b[0m\u001b[0madd\u001b[0m\u001b[0;34m(\u001b[0m\u001b[0;34m[\u001b[0m\u001b[0;34m'valami.txt'\u001b[0m\u001b[0;34m]\u001b[0m\u001b[0;34m)\u001b[0m\u001b[0;34m\u001b[0m\u001b[0;34m\u001b[0m\u001b[0m\n",
            "\u001b[0;31mModuleNotFoundError\u001b[0m: No module named 'git'",
            "",
            "\u001b[0;31m---------------------------------------------------------------------------\u001b[0;32m\nNOTE: If your import is failing due to a missing package, you can\nmanually install dependencies using either !pip or !apt.\n\nTo view examples of installing some common dependencies, click the\n\"Open Examples\" button below.\n\u001b[0;31m---------------------------------------------------------------------------\u001b[0m\n"
          ]
        }
      ]
    },
    {
      "cell_type": "code",
      "metadata": {
        "id": "pDmdT1KAh015",
        "colab_type": "code",
        "colab": {}
      },
      "source": [
        ""
      ],
      "execution_count": 0,
      "outputs": []
    }
  ]
}