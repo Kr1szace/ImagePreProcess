{
  "nbformat": 4,
  "nbformat_minor": 0,
  "metadata": {
    "colab": {
      "name": "ImagePreProcessOnlineWay.ipynb",
      "version": "0.3.2",
      "provenance": [],
      "collapsed_sections": [],
      "include_colab_link": true
    },
    "kernelspec": {
      "name": "python3",
      "display_name": "Python 3"
    }
  },
  "cells": [
    {
      "cell_type": "markdown",
      "metadata": {
        "id": "view-in-github",
        "colab_type": "text"
      },
      "source": [
        "<a href=\"https://colab.research.google.com/github/Kr1szace/ImagePreProcess/blob/master/ImagePreProcessOnlineWay.ipynb\" target=\"_parent\"><img src=\"https://colab.research.google.com/assets/colab-badge.svg\" alt=\"Open In Colab\"/></a>"
      ]
    },
    {
      "cell_type": "code",
      "metadata": {
        "id": "O0exPh_ScmwD",
        "colab_type": "code",
        "colab": {}
      },
      "source": [
        "from PIL import Image, ImageDraw, ImageFont\n",
        "import matplotlib.pyplot as plt\n",
        "import matplotlib.image as mpimg\n",
        "import cv2\n",
        "import numpy as np"
      ],
      "execution_count": 0,
      "outputs": []
    },
    {
      "cell_type": "code",
      "metadata": {
        "id": "Kcv6eazldNGm",
        "colab_type": "code",
        "colab": {}
      },
      "source": [
        "import os\n",
        "import shutil"
      ],
      "execution_count": 0,
      "outputs": []
    },
    {
      "cell_type": "code",
      "metadata": {
        "id": "7hkJof4OdNYP",
        "colab_type": "code",
        "colab": {}
      },
      "source": [
        "from PIL import Image\n",
        "import glob"
      ],
      "execution_count": 0,
      "outputs": []
    },
    {
      "cell_type": "code",
      "metadata": {
        "id": "9rUjKo-ldgce",
        "colab_type": "code",
        "colab": {}
      },
      "source": [
        "#Delete Folder\n",
        "#shutil.rmtree('ImagePreProcess/Alma')"
      ],
      "execution_count": 0,
      "outputs": []
    },
    {
      "cell_type": "code",
      "metadata": {
        "id": "7R9u5h6vdPQQ",
        "colab_type": "code",
        "colab": {
          "base_uri": "https://localhost:8080/",
          "height": 35
        },
        "outputId": "c75d1fac-0f2a-433e-92ae-70e1922a99b9"
      },
      "source": [
        "#Delete 'cache'\n",
        "!rm -r ImagePreProcess"
      ],
      "execution_count": 47,
      "outputs": [
        {
          "output_type": "stream",
          "text": [
            "rm: cannot remove 'ImagePreProcess': No such file or directory\n"
          ],
          "name": "stdout"
        }
      ]
    },
    {
      "cell_type": "code",
      "metadata": {
        "id": "eq239VQhdYAu",
        "colab_type": "code",
        "colab": {
          "base_uri": "https://localhost:8080/",
          "height": 145
        },
        "outputId": "3836f2d2-5a94-4b75-94b8-9070fd88d8f4"
      },
      "source": [
        "!git clone https://github.com/Kr1szace/ImagePreProcess.git\n",
        "!ls ImagePreProcess"
      ],
      "execution_count": 48,
      "outputs": [
        {
          "output_type": "stream",
          "text": [
            "Cloning into 'ImagePreProcess'...\n",
            "remote: Enumerating objects: 137, done.\u001b[K\n",
            "remote: Counting objects:   0% (1/137)\u001b[K\rremote: Counting objects:   1% (2/137)\u001b[K\rremote: Counting objects:   2% (3/137)\u001b[K\rremote: Counting objects:   3% (5/137)\u001b[K\rremote: Counting objects:   4% (6/137)\u001b[K\rremote: Counting objects:   5% (7/137)\u001b[K\rremote: Counting objects:   6% (9/137)\u001b[K\rremote: Counting objects:   7% (10/137)\u001b[K\rremote: Counting objects:   8% (11/137)\u001b[K\rremote: Counting objects:   9% (13/137)\u001b[K\rremote: Counting objects:  10% (14/137)\u001b[K\rremote: Counting objects:  11% (16/137)\u001b[K\rremote: Counting objects:  12% (17/137)\u001b[K\rremote: Counting objects:  13% (18/137)\u001b[K\rremote: Counting objects:  14% (20/137)\u001b[K\rremote: Counting objects:  15% (21/137)\u001b[K\rremote: Counting objects:  16% (22/137)\u001b[K\rremote: Counting objects:  17% (24/137)\u001b[K\rremote: Counting objects:  18% (25/137)\u001b[K\rremote: Counting objects:  19% (27/137)\u001b[K\rremote: Counting objects:  20% (28/137)\u001b[K\rremote: Counting objects:  21% (29/137)\u001b[K\rremote: Counting objects:  22% (31/137)\u001b[K\rremote: Counting objects:  23% (32/137)\u001b[K\rremote: Counting objects:  24% (33/137)\u001b[K\rremote: Counting objects:  25% (35/137)\u001b[K\rremote: Counting objects:  26% (36/137)\u001b[K\rremote: Counting objects:  27% (37/137)\u001b[K\rremote: Counting objects:  28% (39/137)\u001b[K\rremote: Counting objects:  29% (40/137)\u001b[K\rremote: Counting objects:  30% (42/137)\u001b[K\rremote: Counting objects:  31% (43/137)\u001b[K\rremote: Counting objects:  32% (44/137)\u001b[K\rremote: Counting objects:  33% (46/137)\u001b[K\rremote: Counting objects:  34% (47/137)\u001b[K\rremote: Counting objects:  35% (48/137)\u001b[K\rremote: Counting objects:  36% (50/137)\u001b[K\rremote: Counting objects:  37% (51/137)\u001b[K\rremote: Counting objects:  38% (53/137)\u001b[K\rremote: Counting objects:  39% (54/137)\u001b[K\rremote: Counting objects:  40% (55/137)\u001b[K\rremote: Counting objects:  41% (57/137)\u001b[K\rremote: Counting objects:  42% (58/137)\u001b[K\rremote: Counting objects:  43% (59/137)\u001b[K\rremote: Counting objects:  44% (61/137)\u001b[K\rremote: Counting objects:  45% (62/137)\u001b[K\rremote: Counting objects:  46% (64/137)\u001b[K\rremote: Counting objects:  47% (65/137)\u001b[K\rremote: Counting objects:  48% (66/137)\u001b[K\rremote: Counting objects:  49% (68/137)\u001b[K\rremote: Counting objects:  50% (69/137)\u001b[K\rremote: Counting objects:  51% (70/137)\u001b[K\rremote: Counting objects:  52% (72/137)\u001b[K\rremote: Counting objects:  53% (73/137)\u001b[K\rremote: Counting objects:  54% (74/137)\u001b[K\rremote: Counting objects:  55% (76/137)\u001b[K\rremote: Counting objects:  56% (77/137)\u001b[K\rremote: Counting objects:  57% (79/137)\u001b[K\rremote: Counting objects:  58% (80/137)\u001b[K\rremote: Counting objects:  59% (81/137)\u001b[K\rremote: Counting objects:  60% (83/137)\u001b[K\rremote: Counting objects:  61% (84/137)\u001b[K\rremote: Counting objects:  62% (85/137)\u001b[K\rremote: Counting objects:  63% (87/137)\u001b[K\rremote: Counting objects:  64% (88/137)\u001b[K\rremote: Counting objects:  65% (90/137)\u001b[K\rremote: Counting objects:  66% (91/137)\u001b[K\rremote: Counting objects:  67% (92/137)\u001b[K\rremote: Counting objects:  68% (94/137)\u001b[K\rremote: Counting objects:  69% (95/137)\u001b[K\rremote: Counting objects:  70% (96/137)\u001b[K\rremote: Counting objects:  71% (98/137)\u001b[K\rremote: Counting objects:  72% (99/137)\u001b[K\rremote: Counting objects:  73% (101/137)\u001b[K\rremote: Counting objects:  74% (102/137)\u001b[K\rremote: Counting objects:  75% (103/137)\u001b[K\rremote: Counting objects:  76% (105/137)\u001b[K\rremote: Counting objects:  77% (106/137)\u001b[K\rremote: Counting objects:  78% (107/137)\u001b[K\rremote: Counting objects:  79% (109/137)\u001b[K\rremote: Counting objects:  80% (110/137)\u001b[K\rremote: Counting objects:  81% (111/137)\u001b[K\rremote: Counting objects:  82% (113/137)\u001b[K\rremote: Counting objects:  83% (114/137)\u001b[K\rremote: Counting objects:  84% (116/137)\u001b[K\rremote: Counting objects:  85% (117/137)\u001b[K\rremote: Counting objects:  86% (118/137)\u001b[K\rremote: Counting objects:  87% (120/137)\u001b[K\rremote: Counting objects:  88% (121/137)\u001b[K\rremote: Counting objects:  89% (122/137)\u001b[K\rremote: Counting objects:  90% (124/137)\u001b[K\rremote: Counting objects:  91% (125/137)\u001b[K\rremote: Counting objects:  92% (127/137)\u001b[K\rremote: Counting objects:  93% (128/137)\u001b[K\rremote: Counting objects:  94% (129/137)\u001b[K\rremote: Counting objects:  95% (131/137)\u001b[K\rremote: Counting objects:  96% (132/137)\u001b[K\rremote: Counting objects:  97% (133/137)\u001b[K\rremote: Counting objects:  98% (135/137)\u001b[K\rremote: Counting objects:  99% (136/137)\u001b[K\rremote: Counting objects: 100% (137/137)\u001b[K\rremote: Counting objects: 100% (137/137), done.\u001b[K\n",
            "remote: Compressing objects: 100% (136/136), done.\u001b[K\n",
            "remote: Total 137 (delta 0), reused 134 (delta 0), pack-reused 0\n",
            "Receiving objects: 100% (137/137), 48.05 MiB | 32.11 MiB/s, done.\n",
            "FerfiNo  ImagePreProcessOnlineWay.ipynb  Tisztan.xlsx\n"
          ],
          "name": "stdout"
        }
      ]
    },
    {
      "cell_type": "code",
      "metadata": {
        "id": "3Fv5-r5Tdsa-",
        "colab_type": "code",
        "colab": {}
      },
      "source": [
        "def createFolder(directory):\n",
        "    try:\n",
        "        if not os.path.exists(directory):\n",
        "            os.makedirs(directory)\n",
        "            print('Directory Created')\n",
        "    except OSError:\n",
        "        print ('Error: Creating directory. ' +  directory)"
      ],
      "execution_count": 0,
      "outputs": []
    },
    {
      "cell_type": "code",
      "metadata": {
        "id": "14uj3MN5fJFF",
        "colab_type": "code",
        "colab": {}
      },
      "source": [
        "def Image_Load(honnan):\n",
        "    valamik = []\n",
        "    valami=[]\n",
        "    honnan='{}/*.jpg'.format(honnan)\n",
        "    for filename in glob.glob(honnan): #assuming gif\n",
        "        valami.append(filename)\n",
        "    valamik=np.asarray(valami)\n",
        "\n",
        "    print('Image load done')\n",
        "\n",
        "    return valamik"
      ],
      "execution_count": 0,
      "outputs": []
    },
    {
      "cell_type": "code",
      "metadata": {
        "id": "wa14RAMUfT4k",
        "colab_type": "code",
        "colab": {}
      },
      "source": [
        "def pre_process(img):\n",
        "    img= mpimg.imread(img)\n",
        "    #img=cv2.resize(img, (int(img.shape[1]/5),int(img.shape[0]/5)))\n",
        "    img=cv2.cvtColor(img, cv2.COLOR_BGR2GRAY)\n",
        "    #img = img/255\n",
        "    return img"
      ],
      "execution_count": 0,
      "outputs": []
    },
    {
      "cell_type": "code",
      "metadata": {
        "id": "_ftSJ7SPdprm",
        "colab_type": "code",
        "colab": {}
      },
      "source": [
        "def tresholded_image(im):\n",
        "    for i in range(0, im.shape[0]):\n",
        "        for j in range(0, im.shape[1]):\n",
        "            if im[i][j]<220:\n",
        "                im[i][j]=0\n",
        "            else:\n",
        "                im[i][j]=255\n",
        "    print(\"tresholded function is done\")\n",
        "    return im\n",
        "  \n",
        "def find_upper_slat(im):\n",
        "    megvan=0\n",
        "    x=-1\n",
        "    y=-1\n",
        "    i=0\n",
        "    j=0\n",
        "    while megvan!=1 and i<im.shape[0]:\n",
        "        while megvan!=1 and j<im.shape[1]:\n",
        "            if im[i][j]==0:\n",
        "                x=i\n",
        "                y=j\n",
        "                im[i][j]=150\n",
        "                megvan=1\n",
        "                #print('Upper slat')\n",
        "                \n",
        "            j+=1\n",
        "        j=0\n",
        "        i+=1\n",
        "    #print('X: {}, Y: {}'.format(x,y))\n",
        "    return x,y\n",
        "  \n",
        "def find_bottom_slat(im):\n",
        "    megvan=0\n",
        "    x=-1\n",
        "    y=-1\n",
        "    i=im.shape[0]-1\n",
        "    j=0\n",
        "    while megvan!=1 and i>=0:\n",
        "        while megvan!=1 and j<im.shape[1]:\n",
        "            if im[i][j]==0:\n",
        "                x=i\n",
        "                y=j\n",
        "                im[i][j]=150\n",
        "                megvan=1\n",
        "                #print('Bottom slat') \n",
        "            j+=1\n",
        "        j=0\n",
        "        i-=1\n",
        "    #print('X: {}, Y: {}'.format(x,y))\n",
        "    return x,y\n",
        "  \n",
        "def find_left_slat(im):\n",
        "    megvan=0\n",
        "    x=-1\n",
        "    y=-1\n",
        "    i=0\n",
        "    j=0\n",
        "    while megvan!=1 and i<im.shape[1]:\n",
        "        while megvan!=1 and j<im.shape[0]:\n",
        "            if im[j][i]==0:\n",
        "                x=i\n",
        "                y=j\n",
        "                im[j][i]=150\n",
        "                megvan=1\n",
        "                #print('Left slat')\n",
        "                \n",
        "            j+=1\n",
        "        j=0\n",
        "        i+=1\n",
        "    #print('X: {}, Y: {}'.format(x,y))\n",
        "    return x,y\n",
        "  \n",
        "def find_right_slat(im):\n",
        "    megvan=0\n",
        "    x=-1\n",
        "    y=-1\n",
        "    i=im.shape[1]-1\n",
        "    j=0\n",
        "    while megvan!=1 and i>=0:\n",
        "        while megvan!=1 and j<im.shape[0]:\n",
        "            if im[j][i]==0:\n",
        "                x=i\n",
        "                y=j\n",
        "                im[j][i]=150\n",
        "                megvan=1\n",
        "                #print('Right slat') \n",
        "            j+=1\n",
        "        j=0\n",
        "        i-=1\n",
        "    #print('X: {}, Y: {}'.format(x,y))\n",
        "    return x,y\n",
        "  \n",
        "def coordinates_of_frame(im):\n",
        "    upper_x, upper_y=find_upper_slat(im)\n",
        "    bottom_x, bottom_y=find_bottom_slat(im)\n",
        "    left_x, left_y=find_left_slat(im)\n",
        "    right_x, right_y=find_right_slat(im)\n",
        "    return upper_x, upper_y, bottom_x, bottom_y, left_x, left_y, right_x, right_y\n",
        "  \n",
        "def frame_of_text(im,upper, bottom, left, right):\n",
        "    \n",
        "    a=((bottom)-(upper-1))\n",
        "    b=((right)-(left-1))\n",
        "    image=[[0] * b for i in range(a)]\n",
        "    \n",
        "    \n",
        "    if upper==0:\n",
        "        upper=-1\n",
        "    elif upper>0:\n",
        "        upper-=1\n",
        "      \n",
        "    if bottom==im.shape[0]-1:\n",
        "        bottom=-1\n",
        "    elif bottom<im.shape[0]-1:\n",
        "        bottom+=1\n",
        "    \n",
        "    \n",
        "    if left==0:\n",
        "        left=-1\n",
        "    elif left>0:\n",
        "        left-=1\n",
        " \n",
        "    if right==im.shape[1]-1:\n",
        "        right=-1\n",
        "    elif right<im.shape[1]-1:\n",
        "        right+=1\n",
        "    \n",
        "    image=np.asarray(image)\n",
        "    print(\"shape\",image.shape)\n",
        "    \n",
        "\n",
        "            \n",
        "    \n",
        "    for h in range(0,image.shape[0]):\n",
        "         for w in range(0, image.shape[1]):\n",
        "                if upper!=-1 and left!=-1:\n",
        "                    valami=im[(upper+1+h)][(left+1+w)]\n",
        "                    image[h][w]=valami\n",
        "                elif upper!=-1 and left==-1:\n",
        "                    valami=im[(upper+1+h)][(left+w)]\n",
        "                    image[h][w]=valami\n",
        "                elif upper==-1 and left!=-1:\n",
        "                    valami=im[(upper+h)][(left+1+w)]\n",
        "                    image[h][w]=valami\n",
        "                #mindkettő minusz egy\n",
        "                else:\n",
        "                    valami=im[(upper+h)][(left+w)]\n",
        "                    image[h][w]=valami\n",
        "                    \n",
        "                    \n",
        "                    \n",
        "                \n",
        "            \n",
        "    for i in range(0,im.shape[1]):\n",
        "        if upper!=-1:\n",
        "            im[upper, i]=0\n",
        "        if bottom!=-1:\n",
        "            im[bottom, i]=0\n",
        "    for j in range(0,im.shape[0]):\n",
        "        if left!=-1:\n",
        "            im[j, left]=0\n",
        "        if right!=-1:\n",
        "            im[j, right]=0    \n",
        "  \n",
        "            \n",
        "    return image\n",
        "  \n",
        "def cutted_image(img_name, img_to):\n",
        "    img_treshold=tresholded_image(pre_process(img_name))\n",
        "    img = pre_process(img_name)\n",
        "    coordinates=coordinates_of_frame(img_treshold)\n",
        "    return_image=frame_of_text(img, coordinates[0], coordinates[2], coordinates[4], coordinates[6])\n",
        "    #plt.imshow(return_image)\n",
        "    print(img_to+'/'+ img_name.split('/')[-1])\n",
        "    cv2.imwrite(img_to+'/'+img_name.split('/')[-1], return_image)\n",
        "    \n",
        "def Cutted_images(honnan, hova):\n",
        "    createFolder(hova)\n",
        "    images=Image_Load(honnan)\n",
        "    for image in images:\n",
        "        cutted_image(image, hova)\n",
        "    print('Cutted_images Done')  "
      ],
      "execution_count": 0,
      "outputs": []
    },
    {
      "cell_type": "code",
      "metadata": {
        "id": "8RndeMVJga7z",
        "colab_type": "code",
        "colab": {
          "base_uri": "https://localhost:8080/",
          "height": 35
        },
        "outputId": "368dbf8f-237e-4977-890b-3a088bc3ad80"
      },
      "source": [
        "!ls ImagePreProcess/Frame/Ferfi"
      ],
      "execution_count": 68,
      "outputs": [
        {
          "output_type": "stream",
          "text": [
            "111.jpg  11.jpg  24.jpg\n"
          ],
          "name": "stdout"
        }
      ]
    },
    {
      "cell_type": "code",
      "metadata": {
        "id": "u_RGzulmWORY",
        "colab_type": "code",
        "colab": {
          "base_uri": "https://localhost:8080/",
          "height": 781
        },
        "outputId": "03c8a48d-589d-491a-cd0d-45f20e9f0d98"
      },
      "source": [
        "!git --help\n"
      ],
      "execution_count": 72,
      "outputs": [
        {
          "output_type": "stream",
          "text": [
            "usage: git [--version] [--help] [-C <path>] [-c <name>=<value>]\n",
            "           [--exec-path[=<path>]] [--html-path] [--man-path] [--info-path]\n",
            "           [-p | --paginate | --no-pager] [--no-replace-objects] [--bare]\n",
            "           [--git-dir=<path>] [--work-tree=<path>] [--namespace=<name>]\n",
            "           <command> [<args>]\n",
            "\n",
            "These are common Git commands used in various situations:\n",
            "\n",
            "start a working area (see also: git help tutorial)\n",
            "   clone      Clone a repository into a new directory\n",
            "   init       Create an empty Git repository or reinitialize an existing one\n",
            "\n",
            "work on the current change (see also: git help everyday)\n",
            "   add        Add file contents to the index\n",
            "   mv         Move or rename a file, a directory, or a symlink\n",
            "   reset      Reset current HEAD to the specified state\n",
            "   rm         Remove files from the working tree and from the index\n",
            "\n",
            "examine the history and state (see also: git help revisions)\n",
            "   bisect     Use binary search to find the commit that introduced a bug\n",
            "   grep       Print lines matching a pattern\n",
            "   log        Show commit logs\n",
            "   show       Show various types of objects\n",
            "   status     Show the working tree status\n",
            "\n",
            "grow, mark and tweak your common history\n",
            "   branch     List, create, or delete branches\n",
            "   checkout   Switch branches or restore working tree files\n",
            "   commit     Record changes to the repository\n",
            "   diff       Show changes between commits, commit and working tree, etc\n",
            "   merge      Join two or more development histories together\n",
            "   rebase     Reapply commits on top of another base tip\n",
            "   tag        Create, list, delete or verify a tag object signed with GPG\n",
            "\n",
            "collaborate (see also: git help workflows)\n",
            "   fetch      Download objects and refs from another repository\n",
            "   pull       Fetch from and integrate with another repository or a local branch\n",
            "   push       Update remote refs along with associated objects\n",
            "\n",
            "'git help -a' and 'git help -g' list available subcommands and some\n",
            "concept guides. See 'git help <command>' or 'git help <concept>'\n",
            "to read about a specific subcommand or concept.\n"
          ],
          "name": "stdout"
        }
      ]
    },
    {
      "cell_type": "code",
      "metadata": {
        "id": "EOR9WzhqWcA-",
        "colab_type": "code",
        "colab": {
          "base_uri": "https://localhost:8080/",
          "height": 1000
        },
        "outputId": "22a296bb-cc25-486b-ac7a-f01749be2443"
      },
      "source": [
        "!git add --help"
      ],
      "execution_count": 78,
      "outputs": [
        {
          "output_type": "stream",
          "text": [
            "GIT-ADD(1)                        Git Manual                        GIT-ADD(1)\n",
            "\n",
            "N\bNA\bAM\bME\bE\n",
            "       git-add - Add file contents to the index\n",
            "\n",
            "S\bSY\bYN\bNO\bOP\bPS\bSI\bIS\bS\n",
            "       _\bg_\bi_\bt _\ba_\bd_\bd [--verbose | -v] [--dry-run | -n] [--force | -f] [--interactive | -i] [--patch | -p]\n",
            "                 [--edit | -e] [--[no-]all | --[no-]ignore-removal | [--update | -u]]\n",
            "                 [--intent-to-add | -N] [--refresh] [--ignore-errors] [--ignore-missing] [--renormalize]\n",
            "                 [--chmod=(+|-)x] [--] [<pathspec>...]\n",
            "\n",
            "D\bDE\bES\bSC\bCR\bRI\bIP\bPT\bTI\bIO\bON\bN\n",
            "       This command updates the index using the current content found in the\n",
            "       working tree, to prepare the content staged for the next commit. It\n",
            "       typically adds the current content of existing paths as a whole, but\n",
            "       with some options it can also be used to add content with only part of\n",
            "       the changes made to the working tree files applied, or remove paths\n",
            "       that do not exist in the working tree anymore.\n",
            "\n",
            "       The \"index\" holds a snapshot of the content of the working tree, and it\n",
            "       is this snapshot that is taken as the contents of the next commit. Thus\n",
            "       after making any changes to the working tree, and before running the\n",
            "       commit command, you must use the a\bad\bdd\bd command to add any new or modified\n",
            "       files to the index.\n",
            "\n",
            "       This command can be performed multiple times before a commit. It only\n",
            "       adds the content of the specified file(s) at the time the add command\n",
            "       is run; if you want subsequent changes included in the next commit,\n",
            "       then you must run g\bgi\bit\bt a\bad\bdd\bd again to add the new content to the index.\n",
            "\n",
            "       The g\bgi\bit\bt s\bst\bta\bat\btu\bus\bs command can be used to obtain a summary of which files\n",
            "       have changes that are staged for the next commit.\n",
            "\n",
            "       The g\bgi\bit\bt a\bad\bdd\bd command will not add ignored files by default. If any\n",
            "       ignored files were explicitly specified on the command line, g\bgi\bit\bt a\bad\bdd\bd\n",
            "       will fail with a list of ignored files. Ignored files reached by\n",
            "       directory recursion or filename globbing performed by Git (quote your\n",
            "       globs before the shell) will be silently ignored. The _\bg_\bi_\bt _\ba_\bd_\bd command\n",
            "       can be used to add ignored files with the -\b-f\bf (force) option.\n",
            "\n",
            "       Please see g\bgi\bit\bt-\b-c\bco\bom\bmm\bmi\bit\bt(1) for alternative ways to add content to a\n",
            "       commit.\n",
            "\n",
            "O\bOP\bPT\bTI\bIO\bON\bNS\bS\n",
            "       <pathspec>...\n",
            "           Files to add content from. Fileglobs (e.g.  *\b*.\b.c\bc) can be given to\n",
            "           add all matching files. Also a leading directory name (e.g.  d\bdi\bir\br to\n",
            "           add d\bdi\bir\br/\b/f\bfi\bil\ble\be1\b1 and d\bdi\bir\br/\b/f\bfi\bil\ble\be2\b2) can be given to update the index to\n",
            "           match the current state of the directory as a whole (e.g.\n",
            "           specifying d\bdi\bir\br will record not just a file d\bdi\bir\br/\b/f\bfi\bil\ble\be1\b1 modified in\n",
            "           the working tree, a file d\bdi\bir\br/\b/f\bfi\bil\ble\be2\b2 added to the working tree, but\n",
            "           also a file d\bdi\bir\br/\b/f\bfi\bil\ble\be3\b3 removed from the working tree. Note that\n",
            "           older versions of Git used to ignore removed files; use -\b--\b-n\bno\bo-\b-a\bal\bll\bl\n",
            "           option if you want to add modified or new files but ignore removed\n",
            "           ones.\n",
            "\n",
            "           For more details about the <pathspec> syntax, see the _\bp_\ba_\bt_\bh_\bs_\bp_\be_\bc\n",
            "           entry in g\bgi\bit\btg\bgl\blo\bos\bss\bsa\bar\bry\by(7).\n",
            "\n",
            "       -n, --dry-run\n",
            "           Don’t actually add the file(s), just show if they exist and/or will\n",
            "           be ignored.\n",
            "\n",
            "       -v, --verbose\n",
            "           Be verbose.\n",
            "\n",
            "       -f, --force\n",
            "           Allow adding otherwise ignored files.\n",
            "\n",
            "       -i, --interactive\n",
            "           Add modified contents in the working tree interactively to the\n",
            "           index. Optional path arguments may be supplied to limit operation\n",
            "           to a subset of the working tree. See “Interactive mode” for\n",
            "           details.\n",
            "\n",
            "       -p, --patch\n",
            "           Interactively choose hunks of patch between the index and the work\n",
            "           tree and add them to the index. This gives the user a chance to\n",
            "           review the difference before adding modified contents to the index.\n",
            "\n",
            "           This effectively runs a\bad\bdd\bd -\b--\b-i\bin\bnt\bte\ber\bra\bac\bct\bti\biv\bve\be, but bypasses the initial\n",
            "           command menu and directly jumps to the p\bpa\bat\btc\bch\bh subcommand. See\n",
            "           “Interactive mode” for details.\n",
            "\n",
            "       -e, --edit\n",
            "           Open the diff vs. the index in an editor and let the user edit it.\n",
            "           After the editor was closed, adjust the hunk headers and apply the\n",
            "           patch to the index.\n",
            "\n",
            "           The intent of this option is to pick and choose lines of the patch\n",
            "           to apply, or even to modify the contents of lines to be staged.\n",
            "           This can be quicker and more flexible than using the interactive\n",
            "           hunk selector. However, it is easy to confuse oneself and create a\n",
            "           patch that does not apply to the index. See EDITING PATCHES below.\n",
            "\n",
            "       -u, --update\n",
            "           Update the index just where it already has an entry matching\n",
            "           <pathspec>. This removes as well as modifies index entries to match\n",
            "           the working tree, but adds no new files.\n",
            "\n",
            "           If no <pathspec> is given when -\b-u\bu option is used, all tracked files\n",
            "           in the entire working tree are updated (old versions of Git used to\n",
            "           limit the update to the current directory and its subdirectories).\n",
            "\n",
            "       -A, --all, --no-ignore-removal\n",
            "           Update the index not only where the working tree has a file\n",
            "           matching <pathspec> but also where the index already has an entry.\n",
            "           This adds, modifies, and removes index entries to match the working\n",
            "           tree.\n",
            "\n",
            "           If no <pathspec> is given when -\b-A\bA option is used, all files in the\n",
            "           entire working tree are updated (old versions of Git used to limit\n",
            "           the update to the current directory and its subdirectories).\n",
            "\n",
            "       --no-all, --ignore-removal\n",
            "           Update the index by adding new files that are unknown to the index\n",
            "           and files modified in the working tree, but ignore files that have\n",
            "           been removed from the working tree. This option is a no-op when no\n",
            "           <pathspec> is used.\n",
            "\n",
            "           This option is primarily to help users who are used to older\n",
            "           versions of Git, whose \"git add <pathspec>...\" was a synonym for\n",
            "           \"git add --no-all <pathspec>...\", i.e. ignored removed files.\n",
            "\n",
            "       -N, --intent-to-add\n",
            "           Record only the fact that the path will be added later. An entry\n",
            "           for the path is placed in the index with no content. This is useful\n",
            "           for, among other things, showing the unstaged content of such files\n",
            "           with g\bgi\bit\bt d\bdi\bif\bff\bf and committing them with g\bgi\bit\bt c\bco\bom\bmm\bmi\bit\bt -\b-a\ba.\n",
            "\n",
            "       --refresh\n",
            "           Don’t add the file(s), but only refresh their stat() information in\n",
            "           the index.\n",
            "\n",
            "       --ignore-errors\n",
            "           If some files could not be added because of errors indexing them,\n",
            "           do not abort the operation, but continue adding the others. The\n",
            "           command shall still exit with non-zero status. The configuration\n",
            "           variable a\bad\bdd\bd.\b.i\big\bgn\bno\bor\bre\beE\bEr\brr\bro\bor\brs\bs can be set to true to make this the\n",
            "           default behaviour.\n",
            "\n",
            "       --ignore-missing\n",
            "           This option can only be used together with --dry-run. By using this\n",
            "           option the user can check if any of the given files would be\n",
            "           ignored, no matter if they are already present in the work tree or\n",
            "           not.\n",
            "\n",
            "       --no-warn-embedded-repo\n",
            "           By default, g\bgi\bit\bt a\bad\bdd\bd will warn when adding an embedded repository to\n",
            "           the index without using g\bgi\bit\bt s\bsu\bub\bbm\bmo\bod\bdu\bul\ble\be a\bad\bdd\bd to create an entry in\n",
            "           .\b.g\bgi\bit\btm\bmo\bod\bdu\bul\ble\bes\bs. This option will suppress the warning (e.g., if you\n",
            "           are manually performing operations on submodules).\n",
            "\n",
            "       --renormalize\n",
            "           Apply the \"clean\" process freshly to all tracked files to forcibly\n",
            "           add them again to the index. This is useful after changing\n",
            "           c\bco\bor\bre\be.\b.a\bau\but\bto\boc\bcr\brl\blf\bf configuration or the t\bte\bex\bxt\bt attribute in order to\n",
            "           correct files added with wrong CRLF/LF line endings. This option\n",
            "           implies -\b-u\bu.\n",
            "\n",
            "       --chmod=(+|-)x\n",
            "           Override the executable bit of the added files. The executable bit\n",
            "           is only changed in the index, the files on disk are left unchanged.\n",
            "\n",
            "       --\n",
            "           This option can be used to separate command-line options from the\n",
            "           list of files, (useful when filenames might be mistaken for\n",
            "           command-line options).\n",
            "\n",
            "C\bCO\bON\bNF\bFI\bIG\bGU\bUR\bRA\bAT\bTI\bIO\bON\bN\n",
            "       The optional configuration variable c\bco\bor\bre\be.\b.e\bex\bxc\bcl\blu\bud\bde\bes\bsF\bFi\bil\ble\be indicates a path\n",
            "       to a file containing patterns of file names to exclude from git-add,\n",
            "       similar to $GIT_DIR/info/exclude. Patterns in the exclude file are used\n",
            "       in addition to those in info/exclude. See g\bgi\bit\bti\big\bgn\bno\bor\bre\be(5).\n",
            "\n",
            "E\bEX\bXA\bAM\bMP\bPL\bLE\bES\bS\n",
            "       ·   Adds content from all *\b*.\b.t\btx\bxt\bt files under D\bDo\boc\bcu\bum\bme\ben\bnt\bta\bat\bti\bio\bon\bn directory and\n",
            "           its subdirectories:\n",
            "\n",
            "               $ git add Documentation/\\*.txt\n",
            "\n",
            "           Note that the asterisk *\b* is quoted from the shell in this example;\n",
            "           this lets the command include the files from subdirectories of\n",
            "           D\bDo\boc\bcu\bum\bme\ben\bnt\bta\bat\bti\bio\bon\bn/\b/ directory.\n",
            "\n",
            "       ·   Considers adding content from all git-*.sh scripts:\n",
            "\n",
            "               $ git add git-*.sh\n",
            "\n",
            "           Because this example lets the shell expand the asterisk (i.e. you\n",
            "           are listing the files explicitly), it does not consider\n",
            "           s\bsu\bub\bbd\bdi\bir\br/\b/g\bgi\bit\bt-\b-f\bfo\boo\bo.\b.s\bsh\bh.\n",
            "\n",
            "I\bIN\bNT\bTE\bER\bRA\bAC\bCT\bTI\bIV\bVE\bE M\bMO\bOD\bDE\bE\n",
            "       When the command enters the interactive mode, it shows the output of\n",
            "       the _\bs_\bt_\ba_\bt_\bu_\bs subcommand, and then goes into its interactive command loop.\n",
            "\n",
            "       The command loop shows the list of subcommands available, and gives a\n",
            "       prompt \"What now> \". In general, when the prompt ends with a single _\b>,\n",
            "       you can pick only one of the choices given and type return, like this:\n",
            "\n",
            "               *** Commands ***\n",
            "                 1: status       2: update       3: revert       4: add untracked\n",
            "                 5: patch        6: diff         7: quit         8: help\n",
            "               What now> 1\n",
            "\n",
            "       You also could say s\bs or s\bst\bta\ba or s\bst\bta\bat\btu\bus\bs above as long as the choice is\n",
            "       unique.\n",
            "\n",
            "       The main command loop has 6 subcommands (plus help and quit).\n",
            "\n",
            "       status\n",
            "           This shows the change between HEAD and index (i.e. what will be\n",
            "           committed if you say g\bgi\bit\bt c\bco\bom\bmm\bmi\bit\bt), and between index and working\n",
            "           tree files (i.e. what you could stage further before g\bgi\bit\bt c\bco\bom\bmm\bmi\bit\bt\n",
            "           using g\bgi\bit\bt a\bad\bdd\bd) for each path. A sample output looks like this:\n",
            "\n",
            "                             staged     unstaged path\n",
            "                    1:       binary      nothing foo.png\n",
            "                    2:     +403/-35        +1/-1 git-add--interactive.perl\n",
            "\n",
            "           It shows that foo.png has differences from HEAD (but that is binary\n",
            "           so line count cannot be shown) and there is no difference between\n",
            "           indexed copy and the working tree version (if the working tree\n",
            "           version were also different, _\bb_\bi_\bn_\ba_\br_\by would have been shown in place\n",
            "           of _\bn_\bo_\bt_\bh_\bi_\bn_\bg). The other file, git-add--interactive.perl, has 403\n",
            "           lines added and 35 lines deleted if you commit what is in the\n",
            "           index, but working tree file has further modifications (one\n",
            "           addition and one deletion).\n",
            "\n",
            "       update\n",
            "           This shows the status information and issues an \"Update>>\" prompt.\n",
            "           When the prompt ends with double _\b>_\b>, you can make more than one\n",
            "           selection, concatenated with whitespace or comma. Also you can say\n",
            "           ranges. E.g. \"2-5 7,9\" to choose 2,3,4,5,7,9 from the list. If the\n",
            "           second number in a range is omitted, all remaining patches are\n",
            "           taken. E.g. \"7-\" to choose 7,8,9 from the list. You can say _\b* to\n",
            "           choose everything.\n",
            "\n",
            "           What you chose are then highlighted with _\b*, like this:\n",
            "\n",
            "                          staged     unstaged path\n",
            "                 1:       binary      nothing foo.png\n",
            "               * 2:     +403/-35        +1/-1 git-add--interactive.perl\n",
            "\n",
            "           To remove selection, prefix the input with -\b- like this:\n",
            "\n",
            "               Update>> -2\n",
            "\n",
            "           After making the selection, answer with an empty line to stage the\n",
            "           contents of working tree files for selected paths in the index.\n",
            "\n",
            "       revert\n",
            "           This has a very similar UI to _\bu_\bp_\bd_\ba_\bt_\be, and the staged information\n",
            "           for selected paths are reverted to that of the HEAD version.\n",
            "           Reverting new paths makes them untracked.\n",
            "\n",
            "       add untracked\n",
            "           This has a very similar UI to _\bu_\bp_\bd_\ba_\bt_\be and _\br_\be_\bv_\be_\br_\bt, and lets you add\n",
            "           untracked paths to the index.\n",
            "\n",
            "       patch\n",
            "           This lets you choose one path out of a _\bs_\bt_\ba_\bt_\bu_\bs like selection. After\n",
            "           choosing the path, it presents the diff between the index and the\n",
            "           working tree file and asks you if you want to stage the change of\n",
            "           each hunk. You can select one of the following options and type\n",
            "           return:\n",
            "\n",
            "               y - stage this hunk\n",
            "               n - do not stage this hunk\n",
            "               q - quit; do not stage this hunk or any of the remaining ones\n",
            "               a - stage this hunk and all later hunks in the file\n",
            "               d - do not stage this hunk or any of the later hunks in the file\n",
            "               g - select a hunk to go to\n",
            "               / - search for a hunk matching the given regex\n",
            "               j - leave this hunk undecided, see next undecided hunk\n",
            "               J - leave this hunk undecided, see next hunk\n",
            "               k - leave this hunk undecided, see previous undecided hunk\n",
            "               K - leave this hunk undecided, see previous hunk\n",
            "               s - split the current hunk into smaller hunks\n",
            "               e - manually edit the current hunk\n",
            "               ? - print help\n",
            "\n",
            "           After deciding the fate for all hunks, if there is any hunk that\n",
            "           was chosen, the index is updated with the selected hunks.\n",
            "\n",
            "           You can omit having to type return here, by setting the\n",
            "           configuration variable i\bin\bnt\bte\ber\bra\bac\bct\bti\biv\bve\be.\b.s\bsi\bin\bng\bgl\ble\beK\bKe\bey\by to t\btr\bru\bue\be.\n",
            "\n",
            "       diff\n",
            "           This lets you review what will be committed (i.e. between HEAD and\n",
            "           index).\n",
            "\n",
            "E\bED\bDI\bIT\bTI\bIN\bNG\bG P\bPA\bAT\bTC\bCH\bHE\bES\bS\n",
            "       Invoking g\bgi\bit\bt a\bad\bdd\bd -\b-e\be or selecting e\be from the interactive hunk selector\n",
            "       will open a patch in your editor; after the editor exits, the result is\n",
            "       applied to the index. You are free to make arbitrary changes to the\n",
            "       patch, but note that some changes may have confusing results, or even\n",
            "       result in a patch that cannot be applied. If you want to abort the\n",
            "       operation entirely (i.e., stage nothing new in the index), simply\n",
            "       delete all lines of the patch. The list below describes some common\n",
            "       things you may see in a patch, and which editing operations make sense\n",
            "       on them.\n",
            "\n",
            "       added content\n",
            "           Added content is represented by lines beginning with \"+\". You can\n",
            "           prevent staging any addition lines by deleting them.\n",
            "\n",
            "       removed content\n",
            "           Removed content is represented by lines beginning with \"-\". You can\n",
            "           prevent staging their removal by converting the \"-\" to a \" \"\n",
            "           (space).\n",
            "\n",
            "       modified content\n",
            "           Modified content is represented by \"-\" lines (removing the old\n",
            "           content) followed by \"+\" lines (adding the replacement content).\n",
            "           You can prevent staging the modification by converting \"-\" lines to\n",
            "           \" \", and removing \"+\" lines. Beware that modifying only half of the\n",
            "           pair is likely to introduce confusing changes to the index.\n",
            "\n",
            "       There are also more complex operations that can be performed. But\n",
            "       beware that because the patch is applied only to the index and not the\n",
            "       working tree, the working tree will appear to \"undo\" the change in the\n",
            "       index. For example, introducing a new line into the index that is in\n",
            "       neither the HEAD nor the working tree will stage the new line for\n",
            "       commit, but the line will appear to be reverted in the working tree.\n",
            "\n",
            "       Avoid using these constructs, or do so with extreme caution.\n",
            "\n",
            "       removing untouched content\n",
            "           Content which does not differ between the index and working tree\n",
            "           may be shown on context lines, beginning with a \" \" (space). You\n",
            "           can stage context lines for removal by converting the space to a\n",
            "           \"-\". The resulting working tree file will appear to re-add the\n",
            "           content.\n",
            "\n",
            "       modifying existing content\n",
            "           One can also modify context lines by staging them for removal (by\n",
            "           converting \" \" to \"-\") and adding a \"+\" line with the new content.\n",
            "           Similarly, one can modify \"+\" lines for existing additions or\n",
            "           modifications. In all cases, the new modification will appear\n",
            "           reverted in the working tree.\n",
            "\n",
            "       new content\n",
            "           You may also add new content that does not exist in the patch;\n",
            "           simply add new lines, each starting with \"+\". The addition will\n",
            "           appear reverted in the working tree.\n",
            "\n",
            "       There are also several operations which should be avoided entirely, as\n",
            "       they will make the patch impossible to apply:\n",
            "\n",
            "       ·   adding context (\" \") or removal (\"-\") lines\n",
            "\n",
            "       ·   deleting context or removal lines\n",
            "\n",
            "       ·   modifying the contents of context or removal lines\n",
            "\n",
            "S\bSE\bEE\bE A\bAL\bLS\bSO\bO\n",
            "       g\bgi\bit\bt-\b-s\bst\bta\bat\btu\bus\bs(1) g\bgi\bit\bt-\b-r\brm\bm(1) g\bgi\bit\bt-\b-r\bre\bes\bse\bet\bt(1) g\bgi\bit\bt-\b-m\bmv\bv(1) g\bgi\bit\bt-\b-c\bco\bom\bmm\bmi\bit\bt(1) g\bgi\bit\bt-\b-\n",
            "       u\bup\bpd\bda\bat\bte\be-\b-i\bin\bnd\bde\bex\bx(1)\n",
            "\n",
            "G\bGI\bIT\bT\n",
            "       Part of the g\bgi\bit\bt(1) suite\n",
            "\n",
            "Git 2.17.1                        11/26/2018                        GIT-ADD(1)\n"
          ],
          "name": "stdout"
        }
      ]
    },
    {
      "cell_type": "code",
      "metadata": {
        "id": "iejcCLd0XUZl",
        "colab_type": "code",
        "colab": {
          "base_uri": "https://localhost:8080/",
          "height": 54
        },
        "outputId": "f3449072-a866-40f5-b963-41b7943a37c4"
      },
      "source": [
        "!ls ImagePreProcess\n",
        "!git add ImagePreProcess --update"
      ],
      "execution_count": 88,
      "outputs": [
        {
          "output_type": "stream",
          "text": [
            "FerfiNo  Frame\tImagePreProcessOnlineWay.ipynb\tTisztan.xlsx\n",
            "fatal: not a git repository (or any of the parent directories): .git\n"
          ],
          "name": "stdout"
        }
      ]
    },
    {
      "cell_type": "code",
      "metadata": {
        "id": "WnLQj0IxWfnm",
        "colab_type": "code",
        "colab": {}
      },
      "source": [
        ""
      ],
      "execution_count": 0,
      "outputs": []
    },
    {
      "cell_type": "code",
      "metadata": {
        "id": "x_npWltEVWNR",
        "colab_type": "code",
        "colab": {
          "base_uri": "https://localhost:8080/",
          "height": 305
        },
        "outputId": "e00f176b-6938-4392-8bc7-4802c9ef39b6"
      },
      "source": [
        "im=tresholded_image(np.array(Image.open('ImagePreProcess/Frame/Ferfi/111.jpg')))\n",
        "plt.imshow(im)"
      ],
      "execution_count": 67,
      "outputs": [
        {
          "output_type": "stream",
          "text": [
            "tresholded function is done\n"
          ],
          "name": "stdout"
        },
        {
          "output_type": "execute_result",
          "data": {
            "text/plain": [
              "<matplotlib.image.AxesImage at 0x7f3b871b3be0>"
            ]
          },
          "metadata": {
            "tags": []
          },
          "execution_count": 67
        },
        {
          "output_type": "display_data",
          "data": {
            "image/png": "[encoded data removed]",
            "text/plain": [
              "<Figure size 432x288 with 1 Axes>"
            ]
          },
          "metadata": {
            "tags": []
          }
        }
      ]
    },
    {
      "cell_type": "code",
      "metadata": {
        "id": "YcIKoRwKKEvE",
        "colab_type": "code",
        "colab": {
          "base_uri": "https://localhost:8080/",
          "height": 72
        },
        "outputId": "7796e7d9-608f-4bfe-dae5-64c2aea9b427"
      },
      "source": [
        "pip install gitpython"
      ],
      "execution_count": 54,
      "outputs": [
        {
          "output_type": "stream",
          "text": [
            "Requirement already satisfied: gitpython in /usr/local/lib/python3.6/dist-packages (3.0.2)\n",
            "Requirement already satisfied: gitdb2>=2.0.0 in /usr/local/lib/python3.6/dist-packages (from gitpython) (2.0.5)\n",
            "Requirement already satisfied: smmap2>=2.0.0 in /usr/local/lib/python3.6/dist-packages (from gitdb2>=2.0.0->gitpython) (2.0.5)\n"
          ],
          "name": "stdout"
        }
      ]
    },
    {
      "cell_type": "code",
      "metadata": {
        "id": "bY-xSGlmgfja",
        "colab_type": "code",
        "colab": {}
      },
      "source": [
        ""
      ],
      "execution_count": 0,
      "outputs": []
    },
    {
      "cell_type": "code",
      "metadata": {
        "id": "PUiDzlVJoDOo",
        "colab_type": "code",
        "colab": {}
      },
      "source": [
        ""
      ],
      "execution_count": 0,
      "outputs": []
    },
    {
      "cell_type": "code",
      "metadata": {
        "id": "82dVa0xxniFZ",
        "colab_type": "code",
        "colab": {}
      },
      "source": [
        ""
      ],
      "execution_count": 0,
      "outputs": []
    },
    {
      "cell_type": "code",
      "metadata": {
        "id": "fekDIZabnbYa",
        "colab_type": "code",
        "colab": {}
      },
      "source": [
        ""
      ],
      "execution_count": 0,
      "outputs": []
    },
    {
      "cell_type": "code",
      "metadata": {
        "id": "SUzcHxP_eLLW",
        "colab_type": "code",
        "colab": {
          "base_uri": "https://localhost:8080/",
          "height": 540
        },
        "outputId": "476d4c36-f9c0-4f08-ad1c-ef71916b6835"
      },
      "source": [
        "Cutted_images('ImagePreProcess/FerfiNo/Ferfi', 'ImagePreProcess/Frame/Ferfi')\n",
        "#Cutted_images('ImagePreProcess/FerfiNo/No', 'ImagePreProcess/Frame/No')"
      ],
      "execution_count": 55,
      "outputs": [
        {
          "output_type": "stream",
          "text": [
            "Directory Created\n",
            "Image load done\n",
            "tresholded function is done\n",
            "shape (1955, 2412)\n",
            "ImagePreProcess/Frame/Ferfi/111.jpg\n",
            "tresholded function is done\n",
            "shape (2514, 2352)\n",
            "ImagePreProcess/Frame/Ferfi/24.jpg\n",
            "tresholded function is done\n",
            "shape (2637, 2338)\n",
            "ImagePreProcess/Frame/Ferfi/11.jpg\n"
          ],
          "name": "stdout"
        },
        {
          "output_type": "error",
          "ename": "KeyboardInterrupt",
          "evalue": "ignored",
          "traceback": [
            "\u001b[0;31m---------------------------------------------------------------------------\u001b[0m",
            "\u001b[0;31mKeyboardInterrupt\u001b[0m                         Traceback (most recent call last)",
            "\u001b[0;32m<ipython-input-55-bf500fcfc89f>\u001b[0m in \u001b[0;36m<module>\u001b[0;34m()\u001b[0m\n\u001b[0;32m----> 1\u001b[0;31m \u001b[0mCutted_images\u001b[0m\u001b[0;34m(\u001b[0m\u001b[0;34m'ImagePreProcess/FerfiNo/Ferfi'\u001b[0m\u001b[0;34m,\u001b[0m \u001b[0;34m'ImagePreProcess/Frame/Ferfi'\u001b[0m\u001b[0;34m)\u001b[0m\u001b[0;34m\u001b[0m\u001b[0;34m\u001b[0m\u001b[0m\n\u001b[0m\u001b[1;32m      2\u001b[0m \u001b[0;31m#Cutted_images('ImagePreProcess/FerfiNo/No', 'ImagePreProcess/Frame/No')\u001b[0m\u001b[0;34m\u001b[0m\u001b[0;34m\u001b[0m\u001b[0;34m\u001b[0m\u001b[0m\n",
            "\u001b[0;32m<ipython-input-52-ad9be472b68c>\u001b[0m in \u001b[0;36mCutted_images\u001b[0;34m(honnan, hova)\u001b[0m\n\u001b[1;32m    179\u001b[0m     \u001b[0mimages\u001b[0m\u001b[0;34m=\u001b[0m\u001b[0mImage_Load\u001b[0m\u001b[0;34m(\u001b[0m\u001b[0mhonnan\u001b[0m\u001b[0;34m)\u001b[0m\u001b[0;34m\u001b[0m\u001b[0;34m\u001b[0m\u001b[0m\n\u001b[1;32m    180\u001b[0m     \u001b[0;32mfor\u001b[0m \u001b[0mimage\u001b[0m \u001b[0;32min\u001b[0m \u001b[0mimages\u001b[0m\u001b[0;34m:\u001b[0m\u001b[0;34m\u001b[0m\u001b[0;34m\u001b[0m\u001b[0m\n\u001b[0;32m--> 181\u001b[0;31m         \u001b[0mcutted_image\u001b[0m\u001b[0;34m(\u001b[0m\u001b[0mimage\u001b[0m\u001b[0;34m,\u001b[0m \u001b[0mhova\u001b[0m\u001b[0;34m)\u001b[0m\u001b[0;34m\u001b[0m\u001b[0;34m\u001b[0m\u001b[0m\n\u001b[0m\u001b[1;32m    182\u001b[0m     \u001b[0mprint\u001b[0m\u001b[0;34m(\u001b[0m\u001b[0;34m'Cutted_images Done'\u001b[0m\u001b[0;34m)\u001b[0m\u001b[0;34m\u001b[0m\u001b[0;34m\u001b[0m\u001b[0m\n",
            "\u001b[0;32m<ipython-input-52-ad9be472b68c>\u001b[0m in \u001b[0;36mcutted_image\u001b[0;34m(img_name, img_to)\u001b[0m\n\u001b[1;32m    167\u001b[0m \u001b[0;34m\u001b[0m\u001b[0m\n\u001b[1;32m    168\u001b[0m \u001b[0;32mdef\u001b[0m \u001b[0mcutted_image\u001b[0m\u001b[0;34m(\u001b[0m\u001b[0mimg_name\u001b[0m\u001b[0;34m,\u001b[0m \u001b[0mimg_to\u001b[0m\u001b[0;34m)\u001b[0m\u001b[0;34m:\u001b[0m\u001b[0;34m\u001b[0m\u001b[0;34m\u001b[0m\u001b[0m\n\u001b[0;32m--> 169\u001b[0;31m     \u001b[0mimg_treshold\u001b[0m\u001b[0;34m=\u001b[0m\u001b[0mtresholded_image\u001b[0m\u001b[0;34m(\u001b[0m\u001b[0mpre_process\u001b[0m\u001b[0;34m(\u001b[0m\u001b[0mimg_name\u001b[0m\u001b[0;34m)\u001b[0m\u001b[0;34m)\u001b[0m\u001b[0;34m\u001b[0m\u001b[0;34m\u001b[0m\u001b[0m\n\u001b[0m\u001b[1;32m    170\u001b[0m     \u001b[0mimg\u001b[0m \u001b[0;34m=\u001b[0m \u001b[0mpre_process\u001b[0m\u001b[0;34m(\u001b[0m\u001b[0mimg_name\u001b[0m\u001b[0;34m)\u001b[0m\u001b[0;34m\u001b[0m\u001b[0;34m\u001b[0m\u001b[0m\n\u001b[1;32m    171\u001b[0m     \u001b[0mcoordinates\u001b[0m\u001b[0;34m=\u001b[0m\u001b[0mcoordinates_of_frame\u001b[0m\u001b[0;34m(\u001b[0m\u001b[0mimg_treshold\u001b[0m\u001b[0;34m)\u001b[0m\u001b[0;34m\u001b[0m\u001b[0;34m\u001b[0m\u001b[0m\n",
            "\u001b[0;32m<ipython-input-52-ad9be472b68c>\u001b[0m in \u001b[0;36mtresholded_image\u001b[0;34m(im)\u001b[0m\n\u001b[1;32m      2\u001b[0m     \u001b[0;32mfor\u001b[0m \u001b[0mi\u001b[0m \u001b[0;32min\u001b[0m \u001b[0mrange\u001b[0m\u001b[0;34m(\u001b[0m\u001b[0;36m0\u001b[0m\u001b[0;34m,\u001b[0m \u001b[0mim\u001b[0m\u001b[0;34m.\u001b[0m\u001b[0mshape\u001b[0m\u001b[0;34m[\u001b[0m\u001b[0;36m0\u001b[0m\u001b[0;34m]\u001b[0m\u001b[0;34m)\u001b[0m\u001b[0;34m:\u001b[0m\u001b[0;34m\u001b[0m\u001b[0;34m\u001b[0m\u001b[0m\n\u001b[1;32m      3\u001b[0m         \u001b[0;32mfor\u001b[0m \u001b[0mj\u001b[0m \u001b[0;32min\u001b[0m \u001b[0mrange\u001b[0m\u001b[0;34m(\u001b[0m\u001b[0;36m0\u001b[0m\u001b[0;34m,\u001b[0m \u001b[0mim\u001b[0m\u001b[0;34m.\u001b[0m\u001b[0mshape\u001b[0m\u001b[0;34m[\u001b[0m\u001b[0;36m1\u001b[0m\u001b[0;34m]\u001b[0m\u001b[0;34m)\u001b[0m\u001b[0;34m:\u001b[0m\u001b[0;34m\u001b[0m\u001b[0;34m\u001b[0m\u001b[0m\n\u001b[0;32m----> 4\u001b[0;31m             \u001b[0;32mif\u001b[0m \u001b[0mim\u001b[0m\u001b[0;34m[\u001b[0m\u001b[0mi\u001b[0m\u001b[0;34m]\u001b[0m\u001b[0;34m[\u001b[0m\u001b[0mj\u001b[0m\u001b[0;34m]\u001b[0m\u001b[0;34m<\u001b[0m\u001b[0;36m220\u001b[0m\u001b[0;34m:\u001b[0m\u001b[0;34m\u001b[0m\u001b[0;34m\u001b[0m\u001b[0m\n\u001b[0m\u001b[1;32m      5\u001b[0m                 \u001b[0mim\u001b[0m\u001b[0;34m[\u001b[0m\u001b[0mi\u001b[0m\u001b[0;34m]\u001b[0m\u001b[0;34m[\u001b[0m\u001b[0mj\u001b[0m\u001b[0;34m]\u001b[0m\u001b[0;34m=\u001b[0m\u001b[0;36m0\u001b[0m\u001b[0;34m\u001b[0m\u001b[0;34m\u001b[0m\u001b[0m\n\u001b[1;32m      6\u001b[0m             \u001b[0;32melse\u001b[0m\u001b[0;34m:\u001b[0m\u001b[0;34m\u001b[0m\u001b[0;34m\u001b[0m\u001b[0m\n",
            "\u001b[0;31mKeyboardInterrupt\u001b[0m: "
          ]
        }
      ]
    },
    {
      "cell_type": "code",
      "metadata": {
        "id": "NbbxQZFAOxTl",
        "colab_type": "code",
        "colab": {
          "base_uri": "https://localhost:8080/",
          "height": 108
        },
        "outputId": "82500d0f-e3ff-4809-d07b-c249997c5077"
      },
      "source": [
        "!git commit "
      ],
      "execution_count": 39,
      "outputs": [
        {
          "output_type": "stream",
          "text": [
            "Requirement already satisfied: gitpython in /usr/local/lib/python3.6/dist-packages (3.0.2)\n",
            "Requirement already satisfied: gitdb2>=2.0.0 in /usr/local/lib/python3.6/dist-packages (from gitpython) (2.0.5)\n",
            "Requirement already satisfied: smmap2>=2.0.0 in /usr/local/lib/python3.6/dist-packages (from gitdb2>=2.0.0->gitpython) (2.0.5)\n",
            "ImagePreProcess/Frame/Ferfi/\n",
            "Some error occured while pushing the code\n"
          ],
          "name": "stdout"
        }
      ]
    },
    {
      "cell_type": "code",
      "metadata": {
        "id": "cwPVfwOog-9q",
        "colab_type": "code",
        "colab": {
          "base_uri": "https://localhost:8080/",
          "height": 35
        },
        "outputId": "5de61327-b168-4af0-fbac-161ac01a4cd7"
      },
      "source": [
        "!ls ImagePreProcess/Frame/Ferfi"
      ],
      "execution_count": 58,
      "outputs": [
        {
          "output_type": "stream",
          "text": [
            "111.jpg  11.jpg  24.jpg\n"
          ],
          "name": "stdout"
        }
      ]
    },
    {
      "cell_type": "code",
      "metadata": {
        "id": "sBq3Ms30UZg9",
        "colab_type": "code",
        "colab": {}
      },
      "source": [
        ""
      ],
      "execution_count": 0,
      "outputs": []
    },
    {
      "cell_type": "code",
      "metadata": {
        "id": "r1jtGAFHlol0",
        "colab_type": "code",
        "colab": {
          "base_uri": "https://localhost:8080/",
          "height": 35
        },
        "outputId": "27d25358-fd70-4526-9a5c-8dee946762a2"
      },
      "source": [
        "!git push https://github.com/Kr1szace/ImagePreProcess.git -u origin –all "
      ],
      "execution_count": 110,
      "outputs": [
        {
          "output_type": "stream",
          "text": [
            "fatal: not a git repository (or any of the parent directories): .git\n"
          ],
          "name": "stdout"
        }
      ]
    },
    {
      "cell_type": "code",
      "metadata": {
        "id": "Vz32CfYdlFOk",
        "colab_type": "code",
        "colab": {
          "base_uri": "https://localhost:8080/",
          "height": 35
        },
        "outputId": "0ee2c834-4d72-49fa-9885-990f1208ff9e"
      },
      "source": [
        "!git fetch https://github.com/Kr1szace/ImagePreProcess.git"
      ],
      "execution_count": 103,
      "outputs": [
        {
          "output_type": "stream",
          "text": [
            "fatal: not a git repository (or any of the parent directories): .git\n"
          ],
          "name": "stdout"
        }
      ]
    },
    {
      "cell_type": "code",
      "metadata": {
        "id": "cYAZLmPmlaRs",
        "colab_type": "code",
        "colab": {
          "base_uri": "https://localhost:8080/",
          "height": 35
        },
        "outputId": "de484d61-058b-4b67-eac1-426a509e8979"
      },
      "source": [
        "!git add 'valami.txt'"
      ],
      "execution_count": 104,
      "outputs": [
        {
          "output_type": "stream",
          "text": [
            "fatal: not a git repository (or any of the parent directories): .git\n"
          ],
          "name": "stdout"
        }
      ]
    },
    {
      "cell_type": "code",
      "metadata": {
        "id": "pQ42LOygkzVV",
        "colab_type": "code",
        "colab": {
          "base_uri": "https://localhost:8080/",
          "height": 35
        },
        "outputId": "24ffae6d-beec-4a27-c9b0-9edbcf95ed68"
      },
      "source": [
        "!git https://github.com/Kr1szace/ImagePreProcess.git status"
      ],
      "execution_count": 97,
      "outputs": [
        {
          "output_type": "stream",
          "text": [
            "git: 'https://github.com/Kr1szace/ImagePreProcess.git' is not a git command. See 'git --help'.\n"
          ],
          "name": "stdout"
        }
      ]
    },
    {
      "cell_type": "code",
      "metadata": {
        "id": "5EDQF7dXlAAV",
        "colab_type": "code",
        "colab": {
          "base_uri": "https://localhost:8080/",
          "height": 781
        },
        "outputId": "aceadff7-edd2-478d-ac03-69ae96a5056a"
      },
      "source": [
        "!git --help"
      ],
      "execution_count": 98,
      "outputs": [
        {
          "output_type": "stream",
          "text": [
            "usage: git [--version] [--help] [-C <path>] [-c <name>=<value>]\n",
            "           [--exec-path[=<path>]] [--html-path] [--man-path] [--info-path]\n",
            "           [-p | --paginate | --no-pager] [--no-replace-objects] [--bare]\n",
            "           [--git-dir=<path>] [--work-tree=<path>] [--namespace=<name>]\n",
            "           <command> [<args>]\n",
            "\n",
            "These are common Git commands used in various situations:\n",
            "\n",
            "start a working area (see also: git help tutorial)\n",
            "   clone      Clone a repository into a new directory\n",
            "   init       Create an empty Git repository or reinitialize an existing one\n",
            "\n",
            "work on the current change (see also: git help everyday)\n",
            "   add        Add file contents to the index\n",
            "   mv         Move or rename a file, a directory, or a symlink\n",
            "   reset      Reset current HEAD to the specified state\n",
            "   rm         Remove files from the working tree and from the index\n",
            "\n",
            "examine the history and state (see also: git help revisions)\n",
            "   bisect     Use binary search to find the commit that introduced a bug\n",
            "   grep       Print lines matching a pattern\n",
            "   log        Show commit logs\n",
            "   show       Show various types of objects\n",
            "   status     Show the working tree status\n",
            "\n",
            "grow, mark and tweak your common history\n",
            "   branch     List, create, or delete branches\n",
            "   checkout   Switch branches or restore working tree files\n",
            "   commit     Record changes to the repository\n",
            "   diff       Show changes between commits, commit and working tree, etc\n",
            "   merge      Join two or more development histories together\n",
            "   rebase     Reapply commits on top of another base tip\n",
            "   tag        Create, list, delete or verify a tag object signed with GPG\n",
            "\n",
            "collaborate (see also: git help workflows)\n",
            "   fetch      Download objects and refs from another repository\n",
            "   pull       Fetch from and integrate with another repository or a local branch\n",
            "   push       Update remote refs along with associated objects\n",
            "\n",
            "'git help -a' and 'git help -g' list available subcommands and some\n",
            "concept guides. See 'git help <command>' or 'git help <concept>'\n",
            "to read about a specific subcommand or concept.\n"
          ],
          "name": "stdout"
        }
      ]
    },
    {
      "cell_type": "code",
      "metadata": {
        "id": "OXU1bp2oi_lv",
        "colab_type": "code",
        "colab": {
          "base_uri": "https://localhost:8080/",
          "height": 72
        },
        "outputId": "3a4f8785-4098-445c-d5d9-e11345ba71fc"
      },
      "source": [
        "!cd ../\n",
        "!git add *\n",
        "!git commit -m \"Enter commit message here\"\n",
        "!git push"
      ],
      "execution_count": 93,
      "outputs": [
        {
          "output_type": "stream",
          "text": [
            "fatal: not a git repository (or any of the parent directories): .git\n",
            "fatal: not a git repository (or any of the parent directories): .git\n",
            "fatal: not a git repository (or any of the parent directories): .git\n"
          ],
          "name": "stdout"
        }
      ]
    },
    {
      "cell_type": "code",
      "metadata": {
        "id": "3Qhvou3EfWFU",
        "colab_type": "code",
        "colab": {
          "base_uri": "https://localhost:8080/",
          "height": 444
        },
        "outputId": "375dd2c1-4823-4545-cf5d-dba819c2b7cc"
      },
      "source": [
        "!pip install git\n",
        "from git import Repo\n",
        "repo = Repo('ImagePreProcess/Frame/Ferfi')  # if repo is CWD just do '.'\n",
        "\n",
        "repo.index.add(['valami.txt'])\n",
        "repo.index.commit('Cutted Images')\n",
        "origin = repo.remote('origin')\n",
        "origin.push()"
      ],
      "execution_count": 84,
      "outputs": [
        {
          "output_type": "stream",
          "text": [
            "Collecting git\n",
            "\u001b[31m  ERROR: Could not find a version that satisfies the requirement git (from versions: none)\u001b[0m\n",
            "\u001b[31mERROR: No matching distribution found for git\u001b[0m\n"
          ],
          "name": "stdout"
        },
        {
          "output_type": "error",
          "ename": "ModuleNotFoundError",
          "evalue": "ignored",
          "traceback": [
            "\u001b[0;31m---------------------------------------------------------------------------\u001b[0m",
            "\u001b[0;31mModuleNotFoundError\u001b[0m                       Traceback (most recent call last)",
            "\u001b[0;32m<ipython-input-84-cfa2776fafae>\u001b[0m in \u001b[0;36m<module>\u001b[0;34m()\u001b[0m\n\u001b[1;32m      1\u001b[0m \u001b[0mget_ipython\u001b[0m\u001b[0;34m(\u001b[0m\u001b[0;34m)\u001b[0m\u001b[0;34m.\u001b[0m\u001b[0msystem\u001b[0m\u001b[0;34m(\u001b[0m\u001b[0;34m'pip install git'\u001b[0m\u001b[0;34m)\u001b[0m\u001b[0;34m\u001b[0m\u001b[0;34m\u001b[0m\u001b[0m\n\u001b[0;32m----> 2\u001b[0;31m \u001b[0;32mfrom\u001b[0m \u001b[0mgit\u001b[0m \u001b[0;32mimport\u001b[0m \u001b[0mRepo\u001b[0m\u001b[0;34m\u001b[0m\u001b[0;34m\u001b[0m\u001b[0m\n\u001b[0m\u001b[1;32m      3\u001b[0m \u001b[0mrepo\u001b[0m \u001b[0;34m=\u001b[0m \u001b[0mRepo\u001b[0m\u001b[0;34m(\u001b[0m\u001b[0;34m'ImagePreProcess/Frame/Ferfi'\u001b[0m\u001b[0;34m)\u001b[0m  \u001b[0;31m# if repo is CWD just do '.'\u001b[0m\u001b[0;34m\u001b[0m\u001b[0;34m\u001b[0m\u001b[0m\n\u001b[1;32m      4\u001b[0m \u001b[0;34m\u001b[0m\u001b[0m\n\u001b[1;32m      5\u001b[0m \u001b[0mrepo\u001b[0m\u001b[0;34m.\u001b[0m\u001b[0mindex\u001b[0m\u001b[0;34m.\u001b[0m\u001b[0madd\u001b[0m\u001b[0;34m(\u001b[0m\u001b[0;34m[\u001b[0m\u001b[0;34m'valami.txt'\u001b[0m\u001b[0;34m]\u001b[0m\u001b[0;34m)\u001b[0m\u001b[0;34m\u001b[0m\u001b[0;34m\u001b[0m\u001b[0m\n",
            "\u001b[0;31mModuleNotFoundError\u001b[0m: No module named 'git'",
            "",
            "\u001b[0;31m---------------------------------------------------------------------------\u001b[0;32m\nNOTE: If your import is failing due to a missing package, you can\nmanually install dependencies using either !pip or !apt.\n\nTo view examples of installing some common dependencies, click the\n\"Open Examples\" button below.\n\u001b[0;31m---------------------------------------------------------------------------\u001b[0m\n"
          ]
        }
      ]
    },
    {
      "cell_type": "code",
      "metadata": {
        "id": "pDmdT1KAh015",
        "colab_type": "code",
        "colab": {}
      },
      "source": [
        ""
      ],
      "execution_count": 0,
      "outputs": []
    }
  ]
}